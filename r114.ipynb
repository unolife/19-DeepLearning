{
 "cells": [
  {
   "cell_type": "code",
   "execution_count": 1,
   "metadata": {},
   "outputs": [
    {
     "name": "stderr",
     "output_type": "stream",
     "text": [
      "Using TensorFlow backend.\n"
     ]
    }
   ],
   "source": [
    "import os\n",
    "# import codecs\n",
    "from keras.models import Sequential\n",
    "from keras.layers import Dense, Dropout\n",
    "from keras.callbacks import ModelCheckpoint\n",
    "\n",
    "from sklearn.model_selection import train_test_split\n",
    "from sklearn.preprocessing import LabelEncoder\n",
    "\n",
    "import matplotlib.pyplot as plt\n",
    "import pandas as pd\n",
    "import numpy as np\n",
    "import tensorflow as tf\n",
    "\n",
    "import missingno as msno"
   ]
  },
  {
   "cell_type": "code",
   "execution_count": 2,
   "metadata": {
    "scrolled": true
   },
   "outputs": [
    {
     "name": "stderr",
     "output_type": "stream",
     "text": [
      "C:\\ProgramData\\Anaconda3\\envs\\p36\\lib\\site-packages\\IPython\\core\\interactiveshell.py:3049: DtypeWarning: Columns (13) have mixed types. Specify dtype option on import or set low_memory=False.\n",
      "  interactivity=interactivity, compiler=compiler, result=result)\n"
     ]
    },
    {
     "data": {
      "text/html": [
       "<div>\n",
       "<style scoped>\n",
       "    .dataframe tbody tr th:only-of-type {\n",
       "        vertical-align: middle;\n",
       "    }\n",
       "\n",
       "    .dataframe tbody tr th {\n",
       "        vertical-align: top;\n",
       "    }\n",
       "\n",
       "    .dataframe thead th {\n",
       "        text-align: right;\n",
       "    }\n",
       "</style>\n",
       "<table border=\"1\" class=\"dataframe\">\n",
       "  <thead>\n",
       "    <tr style=\"text-align: right;\">\n",
       "      <th></th>\n",
       "      <th>city</th>\n",
       "      <th>district</th>\n",
       "      <th>dong</th>\n",
       "      <th>apart</th>\n",
       "      <th>exclusive_area_m2</th>\n",
       "      <th>price</th>\n",
       "      <th>floor</th>\n",
       "      <th>date</th>\n",
       "      <th>pre-sale_area_m2</th>\n",
       "      <th>moving_date</th>\n",
       "      <th>pre-sale_date</th>\n",
       "      <th>pre-sale_price</th>\n",
       "      <th>house_num</th>\n",
       "      <th>num_for_each_area</th>\n",
       "      <th>price_by3.3m2_exclusive</th>\n",
       "      <th>price_by3.3m2_pre_area</th>\n",
       "      <th>price_by3.3m2_pre_price</th>\n",
       "    </tr>\n",
       "  </thead>\n",
       "  <tbody>\n",
       "    <tr>\n",
       "      <th>0</th>\n",
       "      <td>서울특별시</td>\n",
       "      <td>강남구</td>\n",
       "      <td>압구정동</td>\n",
       "      <td>구현대1차</td>\n",
       "      <td>196.21</td>\n",
       "      <td>450,000</td>\n",
       "      <td>13</td>\n",
       "      <td>2018.12</td>\n",
       "      <td>211.23</td>\n",
       "      <td>1976.06</td>\n",
       "      <td>NaN</td>\n",
       "      <td>NaN</td>\n",
       "      <td>480</td>\n",
       "      <td>120</td>\n",
       "      <td>7,582</td>\n",
       "      <td>7,043</td>\n",
       "      <td>NaN</td>\n",
       "    </tr>\n",
       "    <tr>\n",
       "      <th>1</th>\n",
       "      <td>서울특별시</td>\n",
       "      <td>강남구</td>\n",
       "      <td>청담동</td>\n",
       "      <td>마크힐스2단지</td>\n",
       "      <td>202.58</td>\n",
       "      <td>450,000</td>\n",
       "      <td>5</td>\n",
       "      <td>2018.12</td>\n",
       "      <td>252.31</td>\n",
       "      <td>2010.07</td>\n",
       "      <td>2009.05</td>\n",
       "      <td>600,000</td>\n",
       "      <td>19</td>\n",
       "      <td>1</td>\n",
       "      <td>7,343</td>\n",
       "      <td>5,896</td>\n",
       "      <td>7,861</td>\n",
       "    </tr>\n",
       "    <tr>\n",
       "      <th>2</th>\n",
       "      <td>서울특별시</td>\n",
       "      <td>강남구</td>\n",
       "      <td>압구정동</td>\n",
       "      <td>신현대</td>\n",
       "      <td>139.83</td>\n",
       "      <td>320,000</td>\n",
       "      <td>7</td>\n",
       "      <td>2018.12</td>\n",
       "      <td>165.29</td>\n",
       "      <td>1982.04</td>\n",
       "      <td>NaN</td>\n",
       "      <td>NaN</td>\n",
       "      <td>1,924</td>\n",
       "      <td>168</td>\n",
       "      <td>7,565</td>\n",
       "      <td>6,400</td>\n",
       "      <td>NaN</td>\n",
       "    </tr>\n",
       "    <tr>\n",
       "      <th>3</th>\n",
       "      <td>서울특별시</td>\n",
       "      <td>강남구</td>\n",
       "      <td>대치동</td>\n",
       "      <td>한보미도맨션1차</td>\n",
       "      <td>191.04</td>\n",
       "      <td>315,000</td>\n",
       "      <td>2</td>\n",
       "      <td>2018.12</td>\n",
       "      <td>219.22</td>\n",
       "      <td>1983.12</td>\n",
       "      <td>NaN</td>\n",
       "      <td>8,978</td>\n",
       "      <td>1,204</td>\n",
       "      <td>84</td>\n",
       "      <td>5,451</td>\n",
       "      <td>4,750</td>\n",
       "      <td>135</td>\n",
       "    </tr>\n",
       "    <tr>\n",
       "      <th>4</th>\n",
       "      <td>서울특별시</td>\n",
       "      <td>강남구</td>\n",
       "      <td>압구정동</td>\n",
       "      <td>구현대7차</td>\n",
       "      <td>144.20</td>\n",
       "      <td>304,000</td>\n",
       "      <td>10</td>\n",
       "      <td>2018.12</td>\n",
       "      <td>158.68</td>\n",
       "      <td>1979.05</td>\n",
       "      <td>NaN</td>\n",
       "      <td>NaN</td>\n",
       "      <td>560</td>\n",
       "      <td>168</td>\n",
       "      <td>6,969</td>\n",
       "      <td>6,333</td>\n",
       "      <td>NaN</td>\n",
       "    </tr>\n",
       "  </tbody>\n",
       "</table>\n",
       "</div>"
      ],
      "text/plain": [
       "    city district  dong     apart  exclusive_area_m2    price  floor     date  \\\n",
       "0  서울특별시      강남구  압구정동     구현대1차             196.21  450,000     13  2018.12   \n",
       "1  서울특별시      강남구   청담동   마크힐스2단지             202.58  450,000      5  2018.12   \n",
       "2  서울특별시      강남구  압구정동       신현대             139.83  320,000      7  2018.12   \n",
       "3  서울특별시      강남구   대치동  한보미도맨션1차             191.04  315,000      2  2018.12   \n",
       "4  서울특별시      강남구  압구정동     구현대7차             144.20  304,000     10  2018.12   \n",
       "\n",
       "   pre-sale_area_m2  moving_date  pre-sale_date pre-sale_price house_num  \\\n",
       "0            211.23      1976.06            NaN            NaN       480   \n",
       "1            252.31      2010.07        2009.05        600,000        19   \n",
       "2            165.29      1982.04            NaN            NaN     1,924   \n",
       "3            219.22      1983.12            NaN          8,978     1,204   \n",
       "4            158.68      1979.05            NaN            NaN       560   \n",
       "\n",
       "  num_for_each_area price_by3.3m2_exclusive price_by3.3m2_pre_area  \\\n",
       "0               120                   7,582                  7,043   \n",
       "1                 1                   7,343                  5,896   \n",
       "2               168                   7,565                  6,400   \n",
       "3                84                   5,451                  4,750   \n",
       "4               168                   6,969                  6,333   \n",
       "\n",
       "  price_by3.3m2_pre_price  \n",
       "0                     NaN  \n",
       "1                   7,861  \n",
       "2                     NaN  \n",
       "3                     135  \n",
       "4                     NaN  "
      ]
     },
     "execution_count": 2,
     "metadata": {},
     "output_type": "execute_result"
    }
   ],
   "source": [
    "df = pd.read_csv('hello.csv', encoding='utf-8')\n",
    "df.head()"
   ]
  },
  {
   "cell_type": "code",
   "execution_count": 3,
   "metadata": {
    "scrolled": true
   },
   "outputs": [
    {
     "name": "stdout",
     "output_type": "stream",
     "text": [
      "city : 0\n",
      "district : 0\n",
      "dong : 0\n",
      "apart : 0\n",
      "exclusive_area_m2 : 0\n",
      "price : 0\n",
      "floor : 0\n",
      "date : 0\n",
      "pre-sale_area_m2 : 0\n",
      "moving_date : 0\n",
      "pre-sale_date : 536391\n",
      "pre-sale_price : 279225\n",
      "house_num : 0\n",
      "num_for_each_area : 5\n",
      "price_by3.3m2_exclusive : 25\n",
      "price_by3.3m2_pre_area : 0\n",
      "price_by3.3m2_pre_price : 279225\n",
      "AxesSubplot(0.125,0.125;0.698618x0.755)\n"
     ]
    },
    {
     "data": {
      "image/png": "[encoded data removed]",
      "text/plain": [
       "<Figure size 1800x720 with 2 Axes>"
      ]
     },
     "metadata": {
      "needs_background": "light"
     },
     "output_type": "display_data"
    }
   ],
   "source": [
    "for c in df.columns:\n",
    "    print('{} : {}'.format(c, len(df.loc[pd.isnull(df[c]),c].values)))\n",
    "print(msno.matrix(df))"
   ]
  },
  {
   "cell_type": "code",
   "execution_count": 4,
   "metadata": {},
   "outputs": [
    {
     "data": {
      "text/html": [
       "<div>\n",
       "<style scoped>\n",
       "    .dataframe tbody tr th:only-of-type {\n",
       "        vertical-align: middle;\n",
       "    }\n",
       "\n",
       "    .dataframe tbody tr th {\n",
       "        vertical-align: top;\n",
       "    }\n",
       "\n",
       "    .dataframe thead th {\n",
       "        text-align: right;\n",
       "    }\n",
       "</style>\n",
       "<table border=\"1\" class=\"dataframe\">\n",
       "  <thead>\n",
       "    <tr style=\"text-align: right;\">\n",
       "      <th></th>\n",
       "      <th>city</th>\n",
       "      <th>district</th>\n",
       "      <th>dong</th>\n",
       "      <th>apart</th>\n",
       "      <th>exclusive_area_m2</th>\n",
       "      <th>price</th>\n",
       "      <th>floor</th>\n",
       "      <th>pre-sale_area_m2</th>\n",
       "      <th>moving_date</th>\n",
       "      <th>pre-sale_date</th>\n",
       "      <th>pre-sale_price</th>\n",
       "      <th>house_num</th>\n",
       "      <th>num_for_each_area</th>\n",
       "      <th>price_by3.3m2_exclusive</th>\n",
       "      <th>price_by3.3m2_pre_area</th>\n",
       "      <th>price_by3.3m2_pre_price</th>\n",
       "      <th>year</th>\n",
       "      <th>month</th>\n",
       "    </tr>\n",
       "  </thead>\n",
       "  <tbody>\n",
       "    <tr>\n",
       "      <th>970717</th>\n",
       "      <td>0</td>\n",
       "      <td>24</td>\n",
       "      <td>91</td>\n",
       "      <td>2492</td>\n",
       "      <td>39.84</td>\n",
       "      <td>16,650</td>\n",
       "      <td>4</td>\n",
       "      <td>56.20</td>\n",
       "      <td>1996.06</td>\n",
       "      <td>NaN</td>\n",
       "      <td>NaN</td>\n",
       "      <td>1,070</td>\n",
       "      <td>420</td>\n",
       "      <td>1,382</td>\n",
       "      <td>979</td>\n",
       "      <td>NaN</td>\n",
       "      <td>2018</td>\n",
       "      <td>11</td>\n",
       "    </tr>\n",
       "    <tr>\n",
       "      <th>970718</th>\n",
       "      <td>0</td>\n",
       "      <td>24</td>\n",
       "      <td>85</td>\n",
       "      <td>1399</td>\n",
       "      <td>35.30</td>\n",
       "      <td>16,100</td>\n",
       "      <td>8</td>\n",
       "      <td>46.28</td>\n",
       "      <td>1988.12</td>\n",
       "      <td>NaN</td>\n",
       "      <td>NaN</td>\n",
       "      <td>1,362</td>\n",
       "      <td>300</td>\n",
       "      <td>1,508</td>\n",
       "      <td>1,150</td>\n",
       "      <td>NaN</td>\n",
       "      <td>2018</td>\n",
       "      <td>03</td>\n",
       "    </tr>\n",
       "    <tr>\n",
       "      <th>970719</th>\n",
       "      <td>0</td>\n",
       "      <td>24</td>\n",
       "      <td>83</td>\n",
       "      <td>179</td>\n",
       "      <td>41.88</td>\n",
       "      <td>15,500</td>\n",
       "      <td>5</td>\n",
       "      <td>56.20</td>\n",
       "      <td>1988.05</td>\n",
       "      <td>NaN</td>\n",
       "      <td>NaN</td>\n",
       "      <td>78</td>\n",
       "      <td>78</td>\n",
       "      <td>1,223</td>\n",
       "      <td>912</td>\n",
       "      <td>NaN</td>\n",
       "      <td>2018</td>\n",
       "      <td>07</td>\n",
       "    </tr>\n",
       "    <tr>\n",
       "      <th>970720</th>\n",
       "      <td>0</td>\n",
       "      <td>24</td>\n",
       "      <td>161</td>\n",
       "      <td>2494</td>\n",
       "      <td>33.18</td>\n",
       "      <td>15,500</td>\n",
       "      <td>1</td>\n",
       "      <td>46.28</td>\n",
       "      <td>1996.05</td>\n",
       "      <td>NaN</td>\n",
       "      <td>4,500</td>\n",
       "      <td>1,650</td>\n",
       "      <td>486</td>\n",
       "      <td>1,544</td>\n",
       "      <td>1,107</td>\n",
       "      <td>321</td>\n",
       "      <td>2018</td>\n",
       "      <td>05</td>\n",
       "    </tr>\n",
       "    <tr>\n",
       "      <th>970721</th>\n",
       "      <td>0</td>\n",
       "      <td>24</td>\n",
       "      <td>83</td>\n",
       "      <td>179</td>\n",
       "      <td>41.88</td>\n",
       "      <td>15,000</td>\n",
       "      <td>5</td>\n",
       "      <td>56.20</td>\n",
       "      <td>1988.05</td>\n",
       "      <td>NaN</td>\n",
       "      <td>NaN</td>\n",
       "      <td>78</td>\n",
       "      <td>78</td>\n",
       "      <td>1,184</td>\n",
       "      <td>882</td>\n",
       "      <td>NaN</td>\n",
       "      <td>2018</td>\n",
       "      <td>08</td>\n",
       "    </tr>\n",
       "  </tbody>\n",
       "</table>\n",
       "</div>"
      ],
      "text/plain": [
       "        city  district  dong  apart  exclusive_area_m2   price  floor  \\\n",
       "970717     0        24    91   2492              39.84  16,650      4   \n",
       "970718     0        24    85   1399              35.30  16,100      8   \n",
       "970719     0        24    83    179              41.88  15,500      5   \n",
       "970720     0        24   161   2494              33.18  15,500      1   \n",
       "970721     0        24    83    179              41.88  15,000      5   \n",
       "\n",
       "        pre-sale_area_m2  moving_date  pre-sale_date pre-sale_price house_num  \\\n",
       "970717             56.20      1996.06            NaN            NaN     1,070   \n",
       "970718             46.28      1988.12            NaN            NaN     1,362   \n",
       "970719             56.20      1988.05            NaN            NaN        78   \n",
       "970720             46.28      1996.05            NaN          4,500     1,650   \n",
       "970721             56.20      1988.05            NaN            NaN        78   \n",
       "\n",
       "       num_for_each_area price_by3.3m2_exclusive price_by3.3m2_pre_area  \\\n",
       "970717               420                   1,382                    979   \n",
       "970718               300                   1,508                  1,150   \n",
       "970719                78                   1,223                    912   \n",
       "970720               486                   1,544                  1,107   \n",
       "970721                78                   1,184                    882   \n",
       "\n",
       "       price_by3.3m2_pre_price  year month  \n",
       "970717                     NaN  2018    11  \n",
       "970718                     NaN  2018    03  \n",
       "970719                     NaN  2018    07  \n",
       "970720                     321  2018    05  \n",
       "970721                     NaN  2018    08  "
      ]
     },
     "execution_count": 4,
     "metadata": {},
     "output_type": "execute_result"
    }
   ],
   "source": [
    "# 도시, 행정구, 동,아파트를 라벨 인코딩 함\n",
    "le = LabelEncoder()\n",
    "list1 = ['city', 'district', 'dong', 'apart']\n",
    "for i in list1:\n",
    "    temp = df[i].to_frame()\n",
    "    df[i] = temp.apply(le.fit_transform)\n",
    "    \n",
    "df['year'] = df['date'].apply(lambda x: str(x)[:4]).astype(str)\n",
    "df['month'] = df['date'].apply(lambda x: str(x)[5:7]).astype(str)\n",
    "del df['date']\n",
    "df.tail()"
   ]
  },
  {
   "cell_type": "code",
   "execution_count": 7,
   "metadata": {},
   "outputs": [
    {
     "ename": "SyntaxError",
     "evalue": "invalid syntax (<ipython-input-7-5d1b8e22e0d8>, line 4)",
     "output_type": "error",
     "traceback": [
      "\u001b[1;36m  File \u001b[1;32m\"<ipython-input-7-5d1b8e22e0d8>\"\u001b[1;36m, line \u001b[1;32m4\u001b[0m\n\u001b[1;33m    df[i] = df[i].apply(lambda x: str(x).replace(\",\",\"\"))\u001b[0m\n\u001b[1;37m     ^\u001b[0m\n\u001b[1;31mSyntaxError\u001b[0m\u001b[1;31m:\u001b[0m invalid syntax\n"
     ]
    }
   ],
   "source": [
    "list = ['price','pre-sale_price','house_num','num_for_each_area','price_by3.3m2_exclusive','price_by3.3m2_pre_area','price_by3.3m2_pre_price']\n",
    "for i in list:\n",
    "    df[i] = df[i].apply(lambda x: str(x.replace('nan',\"0\"))\n",
    "    df[i] = df[i].apply(lambda x: float(str(x).replace(\",\",\"\")))\n",
    "y = df['price']\n",
    "del df['price']\n",
    "# 분양일은 절반 이상 비어있고, 아파트 단지별로 분양일이 비슷할걸로 생각해서 그냥 지움\n",
    "del df['pre-sale_date']\n",
    "# 분양가와 평당 분양가는 1/4정도 비어있지만, 일단 지움\n",
    "del df['pre-sale_price']\n",
    "del df['price_by3.3m2_pre_price']\n",
    "df.tail()"
   ]
  },
  {
   "cell_type": "code",
   "execution_count": 9,
   "metadata": {},
   "outputs": [
    {
     "name": "stdout",
     "output_type": "stream",
     "text": [
      "city : 0\n",
      "district : 0\n",
      "dong : 0\n",
      "apart : 0\n",
      "exclusive_area_m2 : 0\n",
      "floor : 0\n",
      "pre-sale_area_m2 : 0\n",
      "moving_date : 0\n",
      "house_num : 0\n",
      "num_for_each_area : 0\n",
      "price_by3.3m2_exclusive : 0\n",
      "price_by3.3m2_pre_area : 0\n",
      "year : 0\n",
      "month : 0\n"
     ]
    },
    {
     "data": {
      "text/plain": [
       "numpy.float64"
      ]
     },
     "execution_count": 9,
     "metadata": {},
     "output_type": "execute_result"
    }
   ],
   "source": [
    "for c in df.columns:\n",
    "    print('{} : {}'.format(c, len(df.loc[pd.isnull(df[c]),c].values)))\n",
    "    \n",
    "hi = df[945863:945864]['num_for_each_area'].values\n",
    "type(hi[0])"
   ]
  },
  {
   "cell_type": "code",
   "execution_count": 10,
   "metadata": {},
   "outputs": [
    {
     "name": "stdout",
     "output_type": "stream",
     "text": [
      "(970722, 14)\n"
     ]
    }
   ],
   "source": [
    "seed = 0\n",
    "np.random.seed(seed)\n",
    "tf.set_random_seed(seed)\n",
    "print(df.shape)"
   ]
  },
  {
   "cell_type": "code",
   "execution_count": 11,
   "metadata": {},
   "outputs": [],
   "source": [
    "x_train, x_test,y_train, y_test = train_test_split(df, y, test_size=0.3, random_state=seed)"
   ]
  },
  {
   "cell_type": "code",
   "execution_count": 12,
   "metadata": {
    "scrolled": true
   },
   "outputs": [
    {
     "name": "stdout",
     "output_type": "stream",
     "text": [
      "WARNING:tensorflow:From C:\\ProgramData\\Anaconda3\\envs\\p36\\lib\\site-packages\\tensorflow\\python\\framework\\op_def_library.py:263: colocate_with (from tensorflow.python.framework.ops) is deprecated and will be removed in a future version.\n",
      "Instructions for updating:\n",
      "Colocations handled automatically by placer.\n"
     ]
    }
   ],
   "source": [
    "model = Sequential()\n",
    "model.add(Dense(240, input_dim=14, activation='relu'))\n",
    "model.add(Dense(720, activation='relu'))\n",
    "model.add(Dense(1440, activation='relu'))\n",
    "model.add(Dense(500, activation='relu'))\n",
    "model.add(Dense(250, activation='relu'))\n",
    "model.add(Dense(100, activation='relu'))\n",
    "model.add(Dense(50, activation='relu'))\n",
    "model.add(Dense(25, activation='relu'))\n",
    "model.add(Dense(5, activation='relu'))\n",
    "model.add(Dense(1))"
   ]
  },
  {
   "cell_type": "code",
   "execution_count": 13,
   "metadata": {},
   "outputs": [],
   "source": [
    "model.compile(loss='mean_squared_error',\n",
    "             optimizer='adam',\n",
    "             metrics=['accuracy'])"
   ]
  },
  {
   "cell_type": "code",
   "execution_count": 14,
   "metadata": {},
   "outputs": [],
   "source": [
    "# 모델 저장 폴더 설정\n",
    "MODEL_DIR = './model/'\n",
    "if not os.path.exists(MODEL_DIR):\n",
    "    os.mkdir(MODEL_DIR)\n",
    "    \n",
    "# 모델 저장 조건 설정\n",
    "modelpath = MODEL_DIR + '{epoch:02d}-{val_loss:.4f}.hdf5'\n",
    "checkpointer = ModelCheckpoint(filepath=modelpath, monitor='val_loss', verbose=1, save_best_only=True)\n",
    "# loss는 train loss고 val_loss는 validation loss임 / acc도 마찬가지"
   ]
  },
  {
   "cell_type": "markdown",
   "metadata": {
    "scrolled": false
   },
   "source": [
    "# 모델 실행 및 저장\n",
    "history = model.fit(x_train, y_train, validation_split=0.33, epochs=100, batch_size=1500)"
   ]
  },
  {
   "cell_type": "code",
   "execution_count": null,
   "metadata": {},
   "outputs": [],
   "source": [
    "history = model.fit(x_train, y_train, validation_split=0.4, epochs=500, batch_size=10000, callbacks=[checkpointer])"
   ]
  },
  {
   "cell_type": "code",
   "execution_count": 16,
   "metadata": {},
   "outputs": [
    {
     "data": {
      "image/png": "[encoded data removed]",
      "text/plain": [
       "<Figure size 432x288 with 1 Axes>"
      ]
     },
     "metadata": {
      "needs_background": "light"
     },
     "output_type": "display_data"
    }
   ],
   "source": [
    "# y_vloss에 테스트셋으로 실험 결과의 오차 값을 저장\n",
    "y_vloss = history.history['val_loss']\n",
    "\n",
    "# y_acc에 학습셋으로 측정한 정확도의 값을 저장\n",
    "y_acc = history.history['acc']\n",
    "\n",
    "# x값을 지정하고 정확도를 파랑색으로, 오차를 빨강색으로 표시\n",
    "x_len = np.arange(len(y_acc))\n",
    "plt.plot(x_len, y_vloss, \"o\", c=\"red\", markersize=3)\n",
    "plt.plot(x_len, y_acc, \"o\", c=\"blue\", markersize=3)\n",
    "\n",
    "plt.show()"
   ]
  },
  {
   "cell_type": "code",
   "execution_count": 18,
   "metadata": {},
   "outputs": [
    {
     "data": {
      "text/plain": [
       "198.49643474494556"
      ]
     },
     "execution_count": 18,
     "metadata": {},
     "output_type": "execute_result"
    }
   ],
   "source": [
    "from math import sqrt\n",
    "from sklearn.metrics import mean_squared_error\n",
    "\n",
    "modelPred = model.predict(x_test)\n",
    "RMSE = sqrt(mean_squared_error(y_test, modelPred))\n",
    "RMSE"
   ]
  },
  {
   "cell_type": "markdown",
   "metadata": {},
   "source": [
    "batch size 10으로 했을 때, 02:31 ~ 07:31 까지 100 epoch 학습함 / 하나당 3분\n",
    "\n",
    "학습 크기: 493205\n",
    "\n",
    "근데 2번이랑 100번이랑 loss변화가 없음\n",
    "\n",
    "* DROP OUT 추가해서 성능 비교 해봐야함\n",
    "* keras.optimizer.SGD(lr=0.1) 확률적 경사 하강법 learning rate 조절하는 코드\n",
    "(lr=0.1, momentum=0.9,nestrove=True) 모멘텀을 추가하기도 함 / 한 단계 미리가서 거기서 경사 계산\n",
    "\n",
    "업데이트 횟수 따라서 더 세밀하게 할지, 더 폭을 넓힐지를 결정함 / 무한대로 커지는거 방지하는것도 있음\n",
    "\n",
    "최종 아담 코드: keras.optimzers.Adagrad(lr=0.01, epslison=1e-08, decay=0.0 (두 가지 장점 다 취함)"
   ]
  },
  {
   "cell_type": "markdown",
   "metadata": {},
   "source": [
    "### first try\n",
    "* LAYER(8,39,24,6,1)\n",
    "* batch size 100\n",
    "* learning time per epochs: 20s\n",
    "* loss: 316,141,761 -> 133,509 꾸준히 줄어듬\n",
    "* RMSE = <b>393.87</b> (19-04-07)"
   ]
  },
  {
   "cell_type": "markdown",
   "metadata": {},
   "source": [
    "### second try - add more layers\n",
    "\n",
    "* LAYER(8,80,160,40,20,5,1)\n",
    "* batch size 100\n",
    "* learning time per epochs: 30s\n",
    "* loss: 107,684,961 -> 86,265 꾸준히 줄어듬, 근데 튀는 범위가 커짐\n",
    "* RMSE = <b>170.43</b> (19-04-07)"
   ]
  },
  {
   "cell_type": "markdown",
   "metadata": {},
   "source": [
    "### third try - add dropout(0.5) after input\n",
    "\n",
    "* LAYER(8,80,dropout(0.5),160,40,20,5,1)\n",
    "* batch size 100\n",
    "* learning time per epochs: 25s\n",
    "* loss: 234,290,290 -> 1,531,823 안 쓰는게 좋은듯  / 100일때 loss :3,629,611\n",
    "* RMSE = <b>34259.49</b> (19-04-07)\n",
    "\n",
    "dropout을 20과 5 사이로 옮긴결과 - epoch 100 batch 100일때 loss = 44,634,468 / rmse=33465.05"
   ]
  },
  {
   "cell_type": "markdown",
   "metadata": {},
   "source": [
    "## 그림그리려고 만듦 \n",
    "alidation_split=0.33, epochs=50, batch_size=500\n",
    "\n",
    "조건 위랑 같음 - loss 217190813 / rmse 33871\n",
    "\n",
    "87198.6413\n",
    "74763710.7422   "
   ]
  },
  {
   "attachments": {
    "image.png": {
     "image/png": "[encoded data removed]"
    }
   },
   "cell_type": "markdown",
   "metadata": {},
   "source": [
    "## 그림은 그려지는데 뭔가 잘못됨\n",
    "뭔가 잘못됨, RMSE 33962\n",
    "앞에 지역명 잘라내고, validation split이 잘못된건가\n",
    "![image.png](attachment:image.png)"
   ]
  },
  {
   "attachments": {
    "image.png": {
     "image/png": "[encoded data removed]"
    }
   },
   "cell_type": "markdown",
   "metadata": {},
   "source": [
    "## nan을 0으로 채우니까 동작하긴함 / 나중에 평균값이나 최빈값 등 결측치는 다시 처리해야함\n",
    "history를 저장 안해서 그림은 안 나왔지만 rmse가 다시 438.52 로 떨어짐\n",
    "\n",
    "![image.png](attachment:image.png)\n",
    "rmse 1538.20 10번만 돌림, split 개수 조정하면 괜찮아질듯"
   ]
  },
  {
   "attachments": {
    "image.png": {
     "image/png": "[encoded data removed]"
    }
   },
   "cell_type": "markdown",
   "metadata": {},
   "source": [
    "## 0.3 0.3으로 나누고 300번 돌림 / batch 5000 / layer = (15,720,1440,500,250,100,50,25,5,1)\n",
    "![image.png](attachment:image.png)\n",
    "\n",
    "rmse 305.82 /  val_loss did not improve from 55526.14326 - 모델 폴더에 저장됨"
   ]
  },
  {
   "attachments": {
    "image.png": {
     "image/png": "[encoded data removed]"
    }
   },
   "cell_type": "markdown",
   "metadata": {},
   "source": [
    "0.3 / 0.4 로 나누고 500번 돌림 / batch 10,000 / layer 동일\n",
    "![image.png](attachment:image.png)\n",
    "rmse 496.63 /  val_loss did not improve from 62056.57849"
   ]
  },
  {
   "attachments": {
    "image.png": {
     "image/png": "[encoded data removed]"
    }
   },
   "cell_type": "markdown",
   "metadata": {},
   "source": [
    "0.3 / 0.4로 나누고 500번 돌림 /batch 10,000 / layer 동일 / 전처리를 조금 함 -> 날짜 분리하고, 결측치많은 열 지움\n",
    "![image.png](attachment:image.png)\n",
    "\n",
    "rmse = 198.49   /  val_loss did not improve from 46512.67788"
   ]
  }
 ],
 "metadata": {
  "kernelspec": {
   "display_name": "p36",
   "language": "python",
   "name": "p36"
  },
  "language_info": {
   "codemirror_mode": {
    "name": "ipython",
    "version": 3
   },
   "file_extension": ".py",
   "mimetype": "text/x-python",
   "name": "python",
   "nbconvert_exporter": "python",
   "pygments_lexer": "ipython3",
   "version": "3.6.8"
  }
 },
 "nbformat": 4,
 "nbformat_minor": 2
}
