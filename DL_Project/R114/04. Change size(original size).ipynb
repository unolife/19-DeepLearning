{
 "cells": [
  {
   "cell_type": "code",
   "execution_count": 24,
   "metadata": {},
   "outputs": [],
   "source": [
    "import os\n",
    "\n",
    "import pandas as pd\n",
    "import lightgbm as lgb\n",
    "import numpy as np\n",
    "import matplotlib.pyplot as plt\n",
    "\n",
    "from math import sqrt\n",
    "from sklearn.metrics import mean_squared_error\n",
    "from sklearn.model_selection import train_test_split\n",
    "from sklearn.model_selection import KFold, cross_val_score\n",
    "\n",
    "from keras.models import Sequential\n",
    "from keras.layers import Dense, Dropout\n",
    "from keras.callbacks import ModelCheckpoint\n",
    "from keras.models import load_model"
   ]
  },
  {
   "cell_type": "code",
   "execution_count": 2,
   "metadata": {},
   "outputs": [
    {
     "data": {
      "text/html": [
       "<div>\n",
       "<style scoped>\n",
       "    .dataframe tbody tr th:only-of-type {\n",
       "        vertical-align: middle;\n",
       "    }\n",
       "\n",
       "    .dataframe tbody tr th {\n",
       "        vertical-align: top;\n",
       "    }\n",
       "\n",
       "    .dataframe thead th {\n",
       "        text-align: right;\n",
       "    }\n",
       "</style>\n",
       "<table border=\"1\" class=\"dataframe\">\n",
       "  <thead>\n",
       "    <tr style=\"text-align: right;\">\n",
       "      <th></th>\n",
       "      <th>city</th>\n",
       "      <th>district</th>\n",
       "      <th>dong</th>\n",
       "      <th>apartment</th>\n",
       "      <th>m2</th>\n",
       "      <th>price</th>\n",
       "      <th>floor</th>\n",
       "      <th>pre_m2</th>\n",
       "      <th>moving_date</th>\n",
       "      <th>num_people</th>\n",
       "      <th>people_by_m2</th>\n",
       "      <th>price_by_m2</th>\n",
       "      <th>price_by_pre_m2</th>\n",
       "      <th>year</th>\n",
       "      <th>month</th>\n",
       "    </tr>\n",
       "  </thead>\n",
       "  <tbody>\n",
       "    <tr>\n",
       "      <th>0</th>\n",
       "      <td>8</td>\n",
       "      <td>1</td>\n",
       "      <td>1156</td>\n",
       "      <td>1504</td>\n",
       "      <td>196.21</td>\n",
       "      <td>450000.0</td>\n",
       "      <td>13.0</td>\n",
       "      <td>211.23</td>\n",
       "      <td>1976.06</td>\n",
       "      <td>480.0</td>\n",
       "      <td>120.0</td>\n",
       "      <td>7582.0</td>\n",
       "      <td>7043.0</td>\n",
       "      <td>2018</td>\n",
       "      <td>12</td>\n",
       "    </tr>\n",
       "    <tr>\n",
       "      <th>1</th>\n",
       "      <td>8</td>\n",
       "      <td>1</td>\n",
       "      <td>1706</td>\n",
       "      <td>4942</td>\n",
       "      <td>202.58</td>\n",
       "      <td>450000.0</td>\n",
       "      <td>5.0</td>\n",
       "      <td>252.31</td>\n",
       "      <td>2010.07</td>\n",
       "      <td>19.0</td>\n",
       "      <td>1.0</td>\n",
       "      <td>7343.0</td>\n",
       "      <td>5896.0</td>\n",
       "      <td>2018</td>\n",
       "      <td>12</td>\n",
       "    </tr>\n",
       "    <tr>\n",
       "      <th>2</th>\n",
       "      <td>8</td>\n",
       "      <td>1</td>\n",
       "      <td>1156</td>\n",
       "      <td>9746</td>\n",
       "      <td>139.83</td>\n",
       "      <td>320000.0</td>\n",
       "      <td>7.0</td>\n",
       "      <td>165.29</td>\n",
       "      <td>1982.04</td>\n",
       "      <td>1924.0</td>\n",
       "      <td>168.0</td>\n",
       "      <td>7565.0</td>\n",
       "      <td>6400.0</td>\n",
       "      <td>2018</td>\n",
       "      <td>12</td>\n",
       "    </tr>\n",
       "    <tr>\n",
       "      <th>3</th>\n",
       "      <td>8</td>\n",
       "      <td>1</td>\n",
       "      <td>393</td>\n",
       "      <td>15322</td>\n",
       "      <td>191.04</td>\n",
       "      <td>315000.0</td>\n",
       "      <td>2.0</td>\n",
       "      <td>219.22</td>\n",
       "      <td>1983.12</td>\n",
       "      <td>1204.0</td>\n",
       "      <td>84.0</td>\n",
       "      <td>5451.0</td>\n",
       "      <td>4750.0</td>\n",
       "      <td>2018</td>\n",
       "      <td>12</td>\n",
       "    </tr>\n",
       "    <tr>\n",
       "      <th>4</th>\n",
       "      <td>8</td>\n",
       "      <td>1</td>\n",
       "      <td>1156</td>\n",
       "      <td>1509</td>\n",
       "      <td>144.20</td>\n",
       "      <td>304000.0</td>\n",
       "      <td>10.0</td>\n",
       "      <td>158.68</td>\n",
       "      <td>1979.05</td>\n",
       "      <td>560.0</td>\n",
       "      <td>168.0</td>\n",
       "      <td>6969.0</td>\n",
       "      <td>6333.0</td>\n",
       "      <td>2018</td>\n",
       "      <td>12</td>\n",
       "    </tr>\n",
       "  </tbody>\n",
       "</table>\n",
       "</div>"
      ],
      "text/plain": [
       "   city  district  dong  apartment      m2     price  floor  pre_m2  \\\n",
       "0     8         1  1156       1504  196.21  450000.0   13.0  211.23   \n",
       "1     8         1  1706       4942  202.58  450000.0    5.0  252.31   \n",
       "2     8         1  1156       9746  139.83  320000.0    7.0  165.29   \n",
       "3     8         1   393      15322  191.04  315000.0    2.0  219.22   \n",
       "4     8         1  1156       1509  144.20  304000.0   10.0  158.68   \n",
       "\n",
       "   moving_date  num_people  people_by_m2  price_by_m2  price_by_pre_m2  year  \\\n",
       "0      1976.06       480.0         120.0       7582.0           7043.0  2018   \n",
       "1      2010.07        19.0           1.0       7343.0           5896.0  2018   \n",
       "2      1982.04      1924.0         168.0       7565.0           6400.0  2018   \n",
       "3      1983.12      1204.0          84.0       5451.0           4750.0  2018   \n",
       "4      1979.05       560.0         168.0       6969.0           6333.0  2018   \n",
       "\n",
       "   month  \n",
       "0     12  \n",
       "1     12  \n",
       "2     12  \n",
       "3     12  \n",
       "4     12  "
      ]
     },
     "execution_count": 2,
     "metadata": {},
     "output_type": "execute_result"
    }
   ],
   "source": [
    "df = pd.read_csv('./preprocessed_apartment.csv')\n",
    "df.head()"
   ]
  },
  {
   "cell_type": "code",
   "execution_count": 3,
   "metadata": {},
   "outputs": [
    {
     "data": {
      "text/plain": [
       "(6174900, 15)"
      ]
     },
     "execution_count": 3,
     "metadata": {},
     "output_type": "execute_result"
    }
   ],
   "source": [
    "df.shape"
   ]
  },
  {
   "cell_type": "code",
   "execution_count": 4,
   "metadata": {},
   "outputs": [],
   "source": [
    "# df_down1 = df.sample(n=600000)\n",
    "# print(df_down1.shape)\n",
    "# df_down1.head()"
   ]
  },
  {
   "cell_type": "code",
   "execution_count": 5,
   "metadata": {},
   "outputs": [],
   "source": [
    "# df_down2 = df.sample(n=15000)\n",
    "# print(df_down2.shape)\n",
    "# df_down2.head()"
   ]
  },
  {
   "cell_type": "code",
   "execution_count": 6,
   "metadata": {},
   "outputs": [],
   "source": [
    "# df_down3 = df.sample(n=1000)\n",
    "# print(df_down3.shape)\n",
    "# df_down3.head()"
   ]
  },
  {
   "cell_type": "code",
   "execution_count": 7,
   "metadata": {},
   "outputs": [],
   "source": [
    "# df_down4 = df.sample(n=100)\n",
    "# print(df_down4.shape)\n",
    "# df_down4.head()"
   ]
  },
  {
   "cell_type": "code",
   "execution_count": 8,
   "metadata": {},
   "outputs": [],
   "source": [
    "y = df['price']\n",
    "del df['price']"
   ]
  },
  {
   "cell_type": "code",
   "execution_count": 9,
   "metadata": {},
   "outputs": [],
   "source": [
    "x_train, x_test,y_train, y_test = train_test_split(df, y, test_size=0.3, random_state=0)"
   ]
  },
  {
   "cell_type": "code",
   "execution_count": 10,
   "metadata": {},
   "outputs": [],
   "source": [
    "lightgbm = lgb.LGBMRegressor(random_state=0)"
   ]
  },
  {
   "cell_type": "code",
   "execution_count": 11,
   "metadata": {},
   "outputs": [
    {
     "name": "stderr",
     "output_type": "stream",
     "text": [
      "C:\\ProgramData\\Anaconda3\\envs\\p36\\lib\\site-packages\\sklearn\\model_selection\\_split.py:2053: FutureWarning: You should specify a value for 'cv' instead of relying on the default value. The default value will change from 3 to 5 in version 0.22.\n",
      "  warnings.warn(CV_WARNING, FutureWarning)\n"
     ]
    },
    {
     "data": {
      "text/plain": [
       "array([0.99727589, 0.99734241, 0.99746746])"
      ]
     },
     "execution_count": 11,
     "metadata": {},
     "output_type": "execute_result"
    }
   ],
   "source": [
    "kfold = KFold(n_splits=5, random_state=0).get_n_splits(x_train.values)\n",
    "cross_val_score(lightgbm, x_train.values, y_train)"
   ]
  },
  {
   "cell_type": "code",
   "execution_count": 12,
   "metadata": {},
   "outputs": [
    {
     "data": {
      "text/plain": [
       "LGBMRegressor(boosting_type='gbdt', class_weight=None, colsample_bytree=1.0,\n",
       "       importance_type='split', learning_rate=0.1, max_depth=-1,\n",
       "       min_child_samples=20, min_child_weight=0.001, min_split_gain=0.0,\n",
       "       n_estimators=100, n_jobs=-1, num_leaves=31, objective=None,\n",
       "       random_state=0, reg_alpha=0.0, reg_lambda=0.0, silent=True,\n",
       "       subsample=1.0, subsample_for_bin=200000, subsample_freq=0)"
      ]
     },
     "execution_count": 12,
     "metadata": {},
     "output_type": "execute_result"
    }
   ],
   "source": [
    "lightgbm.fit(x_train, y_train)"
   ]
  },
  {
   "cell_type": "code",
   "execution_count": 13,
   "metadata": {},
   "outputs": [
    {
     "data": {
      "text/plain": [
       "1162.6522626090643"
      ]
     },
     "execution_count": 13,
     "metadata": {},
     "output_type": "execute_result"
    }
   ],
   "source": [
    "modelPred = lightgbm.predict(x_test)\n",
    "RMSE = sqrt(mean_squared_error(y_test, modelPred))\n",
    "RMSE"
   ]
  },
  {
   "cell_type": "code",
   "execution_count": 14,
   "metadata": {},
   "outputs": [
    {
     "name": "stdout",
     "output_type": "stream",
     "text": [
      "실제가격: 25000.000, 예상가격: 24647.146\n",
      "실제가격: 20900.000, 예상가격: 20523.162\n",
      "실제가격: 35700.000, 예상가격: 36001.417\n",
      "실제가격: 29250.000, 예상가격: 29769.758\n",
      "실제가격: 5800.000, 예상가격: 5868.432\n",
      "실제가격: 9500.000, 예상가격: 9083.648\n",
      "실제가격: 15400.000, 예상가격: 15092.925\n",
      "실제가격: 6300.000, 예상가격: 6388.948\n",
      "실제가격: 20100.000, 예상가격: 20254.150\n",
      "실제가격: 41500.000, 예상가격: 40657.368\n"
     ]
    }
   ],
   "source": [
    "Y_prediction = modelPred.flatten()\n",
    "for i in range(10):\n",
    "    label = y_test.values[i]\n",
    "    prediction = Y_prediction[i]\n",
    "    print(\"실제가격: {:.3f}, 예상가격: {:.3f}\".format(label, prediction))"
   ]
  },
  {
   "cell_type": "code",
   "execution_count": 15,
   "metadata": {},
   "outputs": [
    {
     "name": "stdout",
     "output_type": "stream",
     "text": [
      "WARNING:tensorflow:From C:\\ProgramData\\Anaconda3\\envs\\p36\\lib\\site-packages\\tensorflow\\python\\framework\\op_def_library.py:263: colocate_with (from tensorflow.python.framework.ops) is deprecated and will be removed in a future version.\n",
      "Instructions for updating:\n",
      "Colocations handled automatically by placer.\n"
     ]
    }
   ],
   "source": [
    "model = Sequential()\n",
    "model.add(Dense(140, input_dim=14, activation='relu'))\n",
    "model.add(Dense(35, activation='relu'))\n",
    "model.add(Dense(5, activation='relu'))\n",
    "model.add(Dense(1))"
   ]
  },
  {
   "cell_type": "code",
   "execution_count": 16,
   "metadata": {},
   "outputs": [],
   "source": [
    "model.compile(loss='mean_squared_error',\n",
    "             optimizer='adam',\n",
    "             metrics=['accuracy'])"
   ]
  },
  {
   "cell_type": "code",
   "execution_count": 17,
   "metadata": {},
   "outputs": [],
   "source": [
    "# 모델 저장 폴더 설정\n",
    "MODEL_DIR = './model/'\n",
    "if not os.path.exists(MODEL_DIR):\n",
    "    os.mkdir(MODEL_DIR)\n",
    "    \n",
    "# 모델 저장 조건 설정\n",
    "modelpath = MODEL_DIR + '{epoch:02d}-{val_loss:.4f}.hdf5'\n",
    "checkpointer = ModelCheckpoint(filepath=modelpath, monitor='val_loss', verbose=1, save_best_only=True)\n",
    "# loss는 train loss고 val_loss는 validation loss임 / acc도 마찬가지"
   ]
  },
  {
   "cell_type": "code",
   "execution_count": 18,
   "metadata": {},
   "outputs": [
    {
     "name": "stdout",
     "output_type": "stream",
     "text": [
      "WARNING:tensorflow:From C:\\ProgramData\\Anaconda3\\envs\\p36\\lib\\site-packages\\tensorflow\\python\\ops\\math_ops.py:3066: to_int32 (from tensorflow.python.ops.math_ops) is deprecated and will be removed in a future version.\n",
      "Instructions for updating:\n",
      "Use tf.cast instead.\n",
      "Train on 2593458 samples, validate on 1728972 samples\n",
      "Epoch 1/100\n",
      "2593458/2593458 [==============================] - 24s 9us/step - loss: 70214569.7235 - acc: 2.4716e-04 - val_loss: 5303052.1472 - val_acc: 3.7652e-04\n",
      "\n",
      "Epoch 00001: val_loss improved from inf to 5303052.14716, saving model to ./model/01-5303052.1472.hdf5\n",
      "Epoch 2/100\n",
      "2593458/2593458 [==============================] - 23s 9us/step - loss: 2503476.8177 - acc: 6.4200e-04 - val_loss: 1053355.2094 - val_acc: 9.9076e-04\n",
      "\n",
      "Epoch 00002: val_loss improved from 5303052.14716 to 1053355.20940, saving model to ./model/02-1053355.2094.hdf5\n",
      "Epoch 3/100\n",
      "2593458/2593458 [==============================] - 24s 9us/step - loss: 892790.1534 - acc: 8.9494e-04 - val_loss: 512445.0450 - val_acc: 0.0013\n",
      "\n",
      "Epoch 00003: val_loss improved from 1053355.20940 to 512445.04501, saving model to ./model/03-512445.0450.hdf5\n",
      "Epoch 4/100\n",
      "2593458/2593458 [==============================] - 23s 9us/step - loss: 628792.9179 - acc: 0.0011 - val_loss: 391829.7844 - val_acc: 0.0011\n",
      "\n",
      "Epoch 00004: val_loss improved from 512445.04501 to 391829.78442, saving model to ./model/04-391829.7844.hdf5\n",
      "Epoch 5/100\n",
      "2593458/2593458 [==============================] - 23s 9us/step - loss: 483532.3102 - acc: 0.0011 - val_loss: 410092.7351 - val_acc: 0.0014\n",
      "\n",
      "Epoch 00005: val_loss did not improve from 391829.78442\n",
      "Epoch 6/100\n",
      "2593458/2593458 [==============================] - 21s 8us/step - loss: 339309.1639 - acc: 0.0013 - val_loss: 214649.3284 - val_acc: 0.0016\n",
      "\n",
      "Epoch 00006: val_loss improved from 391829.78442 to 214649.32835, saving model to ./model/06-214649.3284.hdf5\n",
      "Epoch 7/100\n",
      "2593458/2593458 [==============================] - 23s 9us/step - loss: 356532.0245 - acc: 0.0013 - val_loss: 484370.3682 - val_acc: 0.0018\n",
      "\n",
      "Epoch 00007: val_loss did not improve from 214649.32835\n",
      "Epoch 8/100\n",
      "2593458/2593458 [==============================] - 21s 8us/step - loss: 257280.9136 - acc: 0.0016 - val_loss: 182134.6571 - val_acc: 0.0011\n",
      "\n",
      "Epoch 00008: val_loss improved from 214649.32835 to 182134.65711, saving model to ./model/08-182134.6571.hdf5\n",
      "Epoch 9/100\n",
      "2593458/2593458 [==============================] - 21s 8us/step - loss: 323787.8296 - acc: 0.0016 - val_loss: 153350.5193 - val_acc: 0.0021\n",
      "\n",
      "Epoch 00009: val_loss improved from 182134.65711 to 153350.51932, saving model to ./model/09-153350.5193.hdf5\n",
      "Epoch 10/100\n",
      "2593458/2593458 [==============================] - 21s 8us/step - loss: 210372.0560 - acc: 0.0017 - val_loss: 129413.2731 - val_acc: 0.0017\n",
      "\n",
      "Epoch 00010: val_loss improved from 153350.51932 to 129413.27314, saving model to ./model/10-129413.2731.hdf5\n",
      "Epoch 11/100\n",
      "2593458/2593458 [==============================] - 23s 9us/step - loss: 232979.1692 - acc: 0.0017 - val_loss: 127860.5738 - val_acc: 0.0024\n",
      "\n",
      "Epoch 00011: val_loss improved from 129413.27314 to 127860.57378, saving model to ./model/11-127860.5738.hdf5\n",
      "Epoch 12/100\n",
      "2593458/2593458 [==============================] - 22s 9us/step - loss: 243636.1695 - acc: 0.0018 - val_loss: 132334.9634 - val_acc: 0.0012\n",
      "\n",
      "Epoch 00012: val_loss did not improve from 127860.57378\n",
      "Epoch 13/100\n",
      "2593458/2593458 [==============================] - 22s 8us/step - loss: 280552.2979 - acc: 0.0017 - val_loss: 160401.2878 - val_acc: 0.0025\n",
      "\n",
      "Epoch 00013: val_loss did not improve from 127860.57378\n",
      "Epoch 14/100\n",
      "2593458/2593458 [==============================] - 23s 9us/step - loss: 148786.9147 - acc: 0.0019 - val_loss: 91573.3778 - val_acc: 0.0027\n",
      "\n",
      "Epoch 00014: val_loss improved from 127860.57378 to 91573.37781, saving model to ./model/14-91573.3778.hdf5\n",
      "Epoch 15/100\n",
      "2593458/2593458 [==============================] - 23s 9us/step - loss: 173432.3547 - acc: 0.0019 - val_loss: 483876.8850 - val_acc: 0.0021\n",
      "\n",
      "Epoch 00015: val_loss did not improve from 91573.37781\n",
      "Epoch 16/100\n",
      "2593458/2593458 [==============================] - 23s 9us/step - loss: 242323.6340 - acc: 0.0019 - val_loss: 126472.0703 - val_acc: 0.0024\n",
      "\n",
      "Epoch 00016: val_loss did not improve from 91573.37781\n",
      "Epoch 17/100\n",
      "2593458/2593458 [==============================] - 23s 9us/step - loss: 135307.2527 - acc: 0.0021 - val_loss: 82739.2326 - val_acc: 0.0028\n",
      "\n",
      "Epoch 00017: val_loss improved from 91573.37781 to 82739.23256, saving model to ./model/17-82739.2326.hdf5\n",
      "Epoch 18/100\n",
      "2593458/2593458 [==============================] - 23s 9us/step - loss: 190498.8787 - acc: 0.0019 - val_loss: 81898.1440 - val_acc: 0.0025\n",
      "\n",
      "Epoch 00018: val_loss improved from 82739.23256 to 81898.14398, saving model to ./model/18-81898.1440.hdf5\n",
      "Epoch 19/100\n",
      "2593458/2593458 [==============================] - 23s 9us/step - loss: 201004.2557 - acc: 0.0020 - val_loss: 132196.0205 - val_acc: 0.0012\n",
      "\n",
      "Epoch 00019: val_loss did not improve from 81898.14398\n",
      "Epoch 20/100\n",
      "2593458/2593458 [==============================] - 23s 9us/step - loss: 121480.3239 - acc: 0.0023 - val_loss: 98596.0782 - val_acc: 0.0019\n",
      "\n",
      "Epoch 00020: val_loss did not improve from 81898.14398\n",
      "Epoch 21/100\n",
      "2593458/2593458 [==============================] - 23s 9us/step - loss: 142991.0211 - acc: 0.0022 - val_loss: 94168.7710 - val_acc: 0.0015\n",
      "\n",
      "Epoch 00021: val_loss did not improve from 81898.14398\n",
      "Epoch 22/100\n",
      "2593458/2593458 [==============================] - 23s 9us/step - loss: 128600.4721 - acc: 0.0022 - val_loss: 127601.0406 - val_acc: 0.0016\n",
      "\n",
      "Epoch 00022: val_loss did not improve from 81898.14398\n",
      "Epoch 23/100\n",
      "2593458/2593458 [==============================] - 23s 9us/step - loss: 159424.4958 - acc: 0.0023 - val_loss: 64711.0836 - val_acc: 0.0030\n",
      "\n",
      "Epoch 00023: val_loss improved from 81898.14398 to 64711.08364, saving model to ./model/23-64711.0836.hdf5\n",
      "Epoch 24/100\n",
      "2593458/2593458 [==============================] - 22s 8us/step - loss: 151777.0005 - acc: 0.0025 - val_loss: 84787.4064 - val_acc: 0.0012\n",
      "\n",
      "Epoch 00024: val_loss did not improve from 64711.08364\n",
      "Epoch 25/100\n",
      "2593458/2593458 [==============================] - 22s 8us/step - loss: 98972.7371 - acc: 0.0024 - val_loss: 60315.2167 - val_acc: 0.0025\n",
      "\n",
      "Epoch 00025: val_loss improved from 64711.08364 to 60315.21669, saving model to ./model/25-60315.2167.hdf5\n",
      "Epoch 26/100\n",
      "2593458/2593458 [==============================] - 23s 9us/step - loss: 141537.8496 - acc: 0.0023 - val_loss: 58806.5799 - val_acc: 0.0038\n",
      "\n",
      "Epoch 00026: val_loss improved from 60315.21669 to 58806.57990, saving model to ./model/26-58806.5799.hdf5\n",
      "Epoch 27/100\n",
      "2593458/2593458 [==============================] - 21s 8us/step - loss: 109724.2038 - acc: 0.0025 - val_loss: 84238.0834 - val_acc: 0.0026\n",
      "\n",
      "Epoch 00027: val_loss did not improve from 58806.57990\n",
      "Epoch 28/100\n",
      "2593458/2593458 [==============================] - 22s 9us/step - loss: 113350.8928 - acc: 0.0026 - val_loss: 65160.4155 - val_acc: 0.0027\n",
      "\n",
      "Epoch 00028: val_loss did not improve from 58806.57990\n",
      "Epoch 29/100\n",
      "2593458/2593458 [==============================] - 21s 8us/step - loss: 118788.6164 - acc: 0.0026 - val_loss: 137999.7437 - val_acc: 0.0015\n",
      "\n",
      "Epoch 00029: val_loss did not improve from 58806.57990\n",
      "Epoch 30/100\n",
      "2593458/2593458 [==============================] - 22s 9us/step - loss: 141698.0778 - acc: 0.0025 - val_loss: 47815.3438 - val_acc: 0.0035\n",
      "\n",
      "Epoch 00030: val_loss improved from 58806.57990 to 47815.34383, saving model to ./model/30-47815.3438.hdf5\n",
      "Epoch 31/100\n",
      "2593458/2593458 [==============================] - 22s 9us/step - loss: 111582.9462 - acc: 0.0026 - val_loss: 196565.0499 - val_acc: 0.0029\n",
      "\n",
      "Epoch 00031: val_loss did not improve from 47815.34383\n",
      "Epoch 32/100\n",
      "2593458/2593458 [==============================] - 23s 9us/step - loss: 95637.5763 - acc: 0.0027 - val_loss: 61206.6897 - val_acc: 0.0024\n",
      "\n",
      "Epoch 00032: val_loss did not improve from 47815.34383\n",
      "Epoch 33/100\n",
      "2593458/2593458 [==============================] - 23s 9us/step - loss: 103505.3705 - acc: 0.0026 - val_loss: 165214.5425 - val_acc: 4.0255e-04\n",
      "\n",
      "Epoch 00033: val_loss did not improve from 47815.34383\n",
      "Epoch 34/100\n"
     ]
    },
    {
     "name": "stdout",
     "output_type": "stream",
     "text": [
      "2593458/2593458 [==============================] - 24s 9us/step - loss: 149133.8527 - acc: 0.0028 - val_loss: 50253.2008 - val_acc: 0.0037\n",
      "\n",
      "Epoch 00034: val_loss did not improve from 47815.34383\n",
      "Epoch 35/100\n",
      "2593458/2593458 [==============================] - 24s 9us/step - loss: 99993.8031 - acc: 0.0029 - val_loss: 35992.3787 - val_acc: 0.0042\n",
      "\n",
      "Epoch 00035: val_loss improved from 47815.34383 to 35992.37875, saving model to ./model/35-35992.3787.hdf5\n",
      "Epoch 36/100\n",
      "2593458/2593458 [==============================] - 23s 9us/step - loss: 89847.1451 - acc: 0.0028 - val_loss: 39328.1917 - val_acc: 0.0038\n",
      "\n",
      "Epoch 00036: val_loss did not improve from 35992.37875\n",
      "Epoch 37/100\n",
      "2593458/2593458 [==============================] - 23s 9us/step - loss: 94647.6423 - acc: 0.0027 - val_loss: 74939.6523 - val_acc: 0.0027\n",
      "\n",
      "Epoch 00037: val_loss did not improve from 35992.37875\n",
      "Epoch 38/100\n",
      "2593458/2593458 [==============================] - 23s 9us/step - loss: 120377.2519 - acc: 0.0029 - val_loss: 42807.0564 - val_acc: 0.0044\n",
      "\n",
      "Epoch 00038: val_loss did not improve from 35992.37875\n",
      "Epoch 39/100\n",
      "2593458/2593458 [==============================] - 23s 9us/step - loss: 154186.2533 - acc: 0.0026 - val_loss: 44631.9853 - val_acc: 0.0037\n",
      "\n",
      "Epoch 00039: val_loss did not improve from 35992.37875\n",
      "Epoch 40/100\n",
      "2593458/2593458 [==============================] - 23s 9us/step - loss: 106319.6973 - acc: 0.0026 - val_loss: 158270.9253 - val_acc: 5.7549e-04\n",
      "\n",
      "Epoch 00040: val_loss did not improve from 35992.37875\n",
      "Epoch 41/100\n",
      "2593458/2593458 [==============================] - 23s 9us/step - loss: 92617.9731 - acc: 0.0027 - val_loss: 60034.8895 - val_acc: 0.0036\n",
      "\n",
      "Epoch 00041: val_loss did not improve from 35992.37875\n",
      "Epoch 42/100\n",
      "2593458/2593458 [==============================] - 22s 9us/step - loss: 76507.6265 - acc: 0.0030 - val_loss: 654817.5429 - val_acc: 9.2194e-04\n",
      "\n",
      "Epoch 00042: val_loss did not improve from 35992.37875\n",
      "Epoch 43/100\n",
      "2593458/2593458 [==============================] - 22s 9us/step - loss: 93065.9566 - acc: 0.0028 - val_loss: 149606.9632 - val_acc: 0.0018\n",
      "\n",
      "Epoch 00043: val_loss did not improve from 35992.37875\n",
      "Epoch 44/100\n",
      "2593458/2593458 [==============================] - 23s 9us/step - loss: 91525.6944 - acc: 0.0027 - val_loss: 495158.7043 - val_acc: 0.0020\n",
      "\n",
      "Epoch 00044: val_loss did not improve from 35992.37875\n",
      "Epoch 45/100\n",
      "2593458/2593458 [==============================] - 23s 9us/step - loss: 72842.2429 - acc: 0.0031 - val_loss: 35805.5727 - val_acc: 0.0046\n",
      "\n",
      "Epoch 00045: val_loss improved from 35992.37875 to 35805.57269, saving model to ./model/45-35805.5727.hdf5\n",
      "Epoch 46/100\n",
      "2593458/2593458 [==============================] - 21s 8us/step - loss: 58643.3663 - acc: 0.0030 - val_loss: 63921.5057 - val_acc: 0.0038\n",
      "\n",
      "Epoch 00046: val_loss did not improve from 35805.57269\n",
      "Epoch 47/100\n",
      "2593458/2593458 [==============================] - 22s 9us/step - loss: 110197.3575 - acc: 0.0027 - val_loss: 29880.4123 - val_acc: 0.0045\n",
      "\n",
      "Epoch 00047: val_loss improved from 35805.57269 to 29880.41234, saving model to ./model/47-29880.4123.hdf5\n",
      "Epoch 48/100\n",
      "2593458/2593458 [==============================] - 22s 8us/step - loss: 102183.8237 - acc: 0.0030 - val_loss: 30525.5740 - val_acc: 0.0045\n",
      "\n",
      "Epoch 00048: val_loss did not improve from 29880.41234\n",
      "Epoch 49/100\n",
      "2593458/2593458 [==============================] - 23s 9us/step - loss: 71581.4614 - acc: 0.0033 - val_loss: 59150.7682 - val_acc: 0.0027\n",
      "\n",
      "Epoch 00049: val_loss did not improve from 29880.41234\n",
      "Epoch 50/100\n",
      "2593458/2593458 [==============================] - 20s 8us/step - loss: 71294.7667 - acc: 0.0030 - val_loss: 36337.8370 - val_acc: 0.0044\n",
      "\n",
      "Epoch 00050: val_loss did not improve from 29880.41234\n",
      "Epoch 51/100\n",
      "2593458/2593458 [==============================] - 21s 8us/step - loss: 76439.8582 - acc: 0.0031 - val_loss: 35401.0459 - val_acc: 0.0040\n",
      "\n",
      "Epoch 00051: val_loss did not improve from 29880.41234\n",
      "Epoch 52/100\n",
      "2593458/2593458 [==============================] - 23s 9us/step - loss: 84717.6283 - acc: 0.0029 - val_loss: 29261.0544 - val_acc: 0.0044\n",
      "\n",
      "Epoch 00052: val_loss improved from 29880.41234 to 29261.05442, saving model to ./model/52-29261.0544.hdf5\n",
      "Epoch 53/100\n",
      "2593458/2593458 [==============================] - 24s 9us/step - loss: 92025.1538 - acc: 0.0031 - val_loss: 96387.0485 - val_acc: 0.0013\n",
      "\n",
      "Epoch 00053: val_loss did not improve from 29261.05442\n",
      "Epoch 54/100\n",
      "2593458/2593458 [==============================] - 24s 9us/step - loss: 64088.7337 - acc: 0.0034 - val_loss: 30154.0600 - val_acc: 0.0046\n",
      "\n",
      "Epoch 00054: val_loss did not improve from 29261.05442\n",
      "Epoch 55/100\n",
      "2593458/2593458 [==============================] - 24s 9us/step - loss: 77746.0439 - acc: 0.0033 - val_loss: 61836.1768 - val_acc: 0.0022\n",
      "\n",
      "Epoch 00055: val_loss did not improve from 29261.05442\n",
      "Epoch 56/100\n",
      "2593458/2593458 [==============================] - 23s 9us/step - loss: 72384.1333 - acc: 0.0032 - val_loss: 31324.0712 - val_acc: 0.0043\n",
      "\n",
      "Epoch 00056: val_loss did not improve from 29261.05442\n",
      "Epoch 57/100\n",
      "2593458/2593458 [==============================] - 23s 9us/step - loss: 77973.6188 - acc: 0.0032 - val_loss: 122812.1772 - val_acc: 6.9463e-04\n",
      "\n",
      "Epoch 00057: val_loss did not improve from 29261.05442\n",
      "Epoch 58/100\n",
      "2593458/2593458 [==============================] - 24s 9us/step - loss: 86956.8147 - acc: 0.0035 - val_loss: 25687.1661 - val_acc: 0.0052\n",
      "\n",
      "Epoch 00058: val_loss improved from 29261.05442 to 25687.16608, saving model to ./model/58-25687.1661.hdf5\n",
      "Epoch 59/100\n",
      "2593458/2593458 [==============================] - 24s 9us/step - loss: 63884.4645 - acc: 0.0034 - val_loss: 27187.2625 - val_acc: 0.0051\n",
      "\n",
      "Epoch 00059: val_loss did not improve from 25687.16608\n",
      "Epoch 60/100\n",
      "2593458/2593458 [==============================] - 23s 9us/step - loss: 57978.8583 - acc: 0.0036 - val_loss: 25302.9600 - val_acc: 0.0048\n",
      "\n",
      "Epoch 00060: val_loss improved from 25687.16608 to 25302.96001, saving model to ./model/60-25302.9600.hdf5\n",
      "Epoch 61/100\n",
      "2593458/2593458 [==============================] - 23s 9us/step - loss: 66089.6169 - acc: 0.0035 - val_loss: 33560.8546 - val_acc: 0.0049\n",
      "\n",
      "Epoch 00061: val_loss did not improve from 25302.96001\n",
      "Epoch 62/100\n",
      "2593458/2593458 [==============================] - 22s 8us/step - loss: 128894.9435 - acc: 0.0034 - val_loss: 753010.7121 - val_acc: 0.0014\n",
      "\n",
      "Epoch 00062: val_loss did not improve from 25302.96001\n",
      "Epoch 63/100\n",
      "2593458/2593458 [==============================] - 21s 8us/step - loss: 57895.6555 - acc: 0.0039 - val_loss: 41577.2484 - val_acc: 0.0022\n",
      "\n",
      "Epoch 00063: val_loss did not improve from 25302.96001\n",
      "Epoch 64/100\n",
      "2593458/2593458 [==============================] - 22s 9us/step - loss: 72145.3600 - acc: 0.0035 - val_loss: 55684.8778 - val_acc: 0.0032\n",
      "\n",
      "Epoch 00064: val_loss did not improve from 25302.96001\n",
      "Epoch 65/100\n",
      "2593458/2593458 [==============================] - 22s 9us/step - loss: 72991.1025 - acc: 0.0034 - val_loss: 23673.1849 - val_acc: 0.0053\n",
      "\n",
      "Epoch 00065: val_loss improved from 25302.96001 to 23673.18486, saving model to ./model/65-23673.1849.hdf5\n",
      "Epoch 66/100\n",
      "2593458/2593458 [==============================] - 23s 9us/step - loss: 62740.0304 - acc: 0.0035 - val_loss: 283940.3882 - val_acc: 3.2968e-05\n",
      "\n",
      "Epoch 00066: val_loss did not improve from 23673.18486\n",
      "Epoch 67/100\n",
      "2593458/2593458 [==============================] - 22s 9us/step - loss: 82676.1646 - acc: 0.0036 - val_loss: 47664.4740 - val_acc: 0.0023\n",
      "\n",
      "Epoch 00067: val_loss did not improve from 23673.18486\n",
      "Epoch 68/100\n",
      "2593458/2593458 [==============================] - 23s 9us/step - loss: 59888.3216 - acc: 0.0036 - val_loss: 59829.6155 - val_acc: 0.0015\n",
      "\n",
      "Epoch 00068: val_loss did not improve from 23673.18486\n",
      "Epoch 69/100\n",
      "2593458/2593458 [==============================] - 23s 9us/step - loss: 72886.3465 - acc: 0.0035 - val_loss: 35518.3935 - val_acc: 0.0054\n",
      "\n",
      "Epoch 00069: val_loss did not improve from 23673.18486\n",
      "Epoch 70/100\n",
      "2593458/2593458 [==============================] - 23s 9us/step - loss: 52923.2311 - acc: 0.0037 - val_loss: 26415.0831 - val_acc: 0.0056\n",
      "\n",
      "Epoch 00070: val_loss did not improve from 23673.18486\n",
      "Epoch 71/100\n",
      "2593458/2593458 [==============================] - 22s 8us/step - loss: 84916.2851 - acc: 0.0038 - val_loss: 81833.1018 - val_acc: 0.0036\n",
      "\n",
      "Epoch 00071: val_loss did not improve from 23673.18486\n",
      "Epoch 72/100\n"
     ]
    },
    {
     "name": "stdout",
     "output_type": "stream",
     "text": [
      "2593458/2593458 [==============================] - 23s 9us/step - loss: 71699.8745 - acc: 0.0037 - val_loss: 24426.7846 - val_acc: 0.0050\n",
      "\n",
      "Epoch 00072: val_loss did not improve from 23673.18486\n",
      "Epoch 73/100\n",
      "2593458/2593458 [==============================] - 22s 9us/step - loss: 58878.5299 - acc: 0.0037 - val_loss: 172686.8473 - val_acc: 0.0025\n",
      "\n",
      "Epoch 00073: val_loss did not improve from 23673.18486\n",
      "Epoch 74/100\n",
      "2593458/2593458 [==============================] - 22s 8us/step - loss: 54495.4048 - acc: 0.0037 - val_loss: 24790.4614 - val_acc: 0.0040\n",
      "\n",
      "Epoch 00074: val_loss did not improve from 23673.18486\n",
      "Epoch 75/100\n",
      "2593458/2593458 [==============================] - 22s 9us/step - loss: 80332.8260 - acc: 0.0039 - val_loss: 40807.9193 - val_acc: 0.0014\n",
      "\n",
      "Epoch 00075: val_loss did not improve from 23673.18486\n",
      "Epoch 76/100\n",
      "2593458/2593458 [==============================] - 23s 9us/step - loss: 48915.0231 - acc: 0.0038 - val_loss: 88644.6148 - val_acc: 0.0028\n",
      "\n",
      "Epoch 00076: val_loss did not improve from 23673.18486\n",
      "Epoch 77/100\n",
      "2593458/2593458 [==============================] - 22s 9us/step - loss: 84548.4994 - acc: 0.0039 - val_loss: 19307.6388 - val_acc: 0.0060\n",
      "\n",
      "Epoch 00077: val_loss improved from 23673.18486 to 19307.63885, saving model to ./model/77-19307.6388.hdf5\n",
      "Epoch 78/100\n",
      "2593458/2593458 [==============================] - 20s 8us/step - loss: 48832.8307 - acc: 0.0041 - val_loss: 85093.0322 - val_acc: 0.0035\n",
      "\n",
      "Epoch 00078: val_loss did not improve from 19307.63885\n",
      "Epoch 79/100\n",
      "2593458/2593458 [==============================] - 23s 9us/step - loss: 76633.8258 - acc: 0.0039 - val_loss: 56897.2211 - val_acc: 0.0015\n",
      "\n",
      "Epoch 00079: val_loss did not improve from 19307.63885\n",
      "Epoch 80/100\n",
      "2593458/2593458 [==============================] - 23s 9us/step - loss: 93751.6377 - acc: 0.0042 - val_loss: 27375.0226 - val_acc: 0.0046\n",
      "\n",
      "Epoch 00080: val_loss did not improve from 19307.63885\n",
      "Epoch 81/100\n",
      "2593458/2593458 [==============================] - 23s 9us/step - loss: 40807.9742 - acc: 0.0041 - val_loss: 24368.8467 - val_acc: 0.0031\n",
      "\n",
      "Epoch 00081: val_loss did not improve from 19307.63885\n",
      "Epoch 82/100\n",
      "2593458/2593458 [==============================] - 23s 9us/step - loss: 76157.6670 - acc: 0.0038 - val_loss: 35930.8695 - val_acc: 0.0049\n",
      "\n",
      "Epoch 00082: val_loss did not improve from 19307.63885\n",
      "Epoch 83/100\n",
      "2593458/2593458 [==============================] - 23s 9us/step - loss: 48497.5709 - acc: 0.0040 - val_loss: 35798.0577 - val_acc: 0.0025\n",
      "\n",
      "Epoch 00083: val_loss did not improve from 19307.63885\n",
      "Epoch 84/100\n",
      "2593458/2593458 [==============================] - 23s 9us/step - loss: 61937.9790 - acc: 0.0039 - val_loss: 39106.7475 - val_acc: 0.0047\n",
      "\n",
      "Epoch 00084: val_loss did not improve from 19307.63885\n",
      "Epoch 85/100\n",
      "2593458/2593458 [==============================] - 23s 9us/step - loss: 43728.1039 - acc: 0.0040 - val_loss: 29379.8672 - val_acc: 0.0030\n",
      "\n",
      "Epoch 00085: val_loss did not improve from 19307.63885\n",
      "Epoch 86/100\n",
      "2593458/2593458 [==============================] - 22s 9us/step - loss: 64783.2025 - acc: 0.0040 - val_loss: 39997.6308 - val_acc: 0.0010\n",
      "\n",
      "Epoch 00086: val_loss did not improve from 19307.63885\n",
      "Epoch 87/100\n",
      "2593458/2593458 [==============================] - 23s 9us/step - loss: 48584.3362 - acc: 0.0041 - val_loss: 25034.6758 - val_acc: 0.0038\n",
      "\n",
      "Epoch 00087: val_loss did not improve from 19307.63885\n",
      "Epoch 88/100\n",
      "2593458/2593458 [==============================] - 23s 9us/step - loss: 57098.8085 - acc: 0.0041 - val_loss: 25548.2882 - val_acc: 0.0061\n",
      "\n",
      "Epoch 00088: val_loss did not improve from 19307.63885\n",
      "Epoch 89/100\n",
      "2593458/2593458 [==============================] - 21s 8us/step - loss: 76658.4276 - acc: 0.0040 - val_loss: 18466.7586 - val_acc: 0.0064\n",
      "\n",
      "Epoch 00089: val_loss improved from 19307.63885 to 18466.75860, saving model to ./model/89-18466.7586.hdf5\n",
      "Epoch 90/100\n",
      "2593458/2593458 [==============================] - 23s 9us/step - loss: 57426.4271 - acc: 0.0042 - val_loss: 20562.7602 - val_acc: 0.0059\n",
      "\n",
      "Epoch 00090: val_loss did not improve from 18466.75860\n",
      "Epoch 91/100\n",
      "2593458/2593458 [==============================] - 22s 8us/step - loss: 38382.3970 - acc: 0.0042 - val_loss: 21983.3909 - val_acc: 0.0055\n",
      "\n",
      "Epoch 00091: val_loss did not improve from 18466.75860\n",
      "Epoch 92/100\n",
      "2593458/2593458 [==============================] - 23s 9us/step - loss: 52683.8058 - acc: 0.0042 - val_loss: 50483.9792 - val_acc: 0.0033\n",
      "\n",
      "Epoch 00092: val_loss did not improve from 18466.75860\n",
      "Epoch 93/100\n",
      "2593458/2593458 [==============================] - 23s 9us/step - loss: 50937.8383 - acc: 0.0041 - val_loss: 291179.9362 - val_acc: 3.2910e-04\n",
      "\n",
      "Epoch 00093: val_loss did not improve from 18466.75860\n",
      "Epoch 94/100\n",
      "2593458/2593458 [==============================] - 23s 9us/step - loss: 53994.9467 - acc: 0.0044 - val_loss: 29239.8051 - val_acc: 0.0059\n",
      "\n",
      "Epoch 00094: val_loss did not improve from 18466.75860\n",
      "Epoch 95/100\n",
      "2593458/2593458 [==============================] - 23s 9us/step - loss: 59576.3394 - acc: 0.0043 - val_loss: 17173.8919 - val_acc: 0.0063\n",
      "\n",
      "Epoch 00095: val_loss improved from 18466.75860 to 17173.89192, saving model to ./model/95-17173.8919.hdf5\n",
      "Epoch 96/100\n",
      "2593458/2593458 [==============================] - 23s 9us/step - loss: 49092.2901 - acc: 0.0041 - val_loss: 134446.5569 - val_acc: 0.0027\n",
      "\n",
      "Epoch 00096: val_loss did not improve from 17173.89192\n",
      "Epoch 97/100\n",
      "2593458/2593458 [==============================] - 23s 9us/step - loss: 45023.0258 - acc: 0.0041 - val_loss: 45369.8176 - val_acc: 0.0019\n",
      "\n",
      "Epoch 00097: val_loss did not improve from 17173.89192\n",
      "Epoch 98/100\n",
      "2593458/2593458 [==============================] - 23s 9us/step - loss: 40798.9020 - acc: 0.0042 - val_loss: 49568.7435 - val_acc: 0.0036\n",
      "\n",
      "Epoch 00098: val_loss did not improve from 17173.89192\n",
      "Epoch 99/100\n",
      "2593458/2593458 [==============================] - 21s 8us/step - loss: 50228.6141 - acc: 0.0040 - val_loss: 23430.5798 - val_acc: 0.0055\n",
      "\n",
      "Epoch 00099: val_loss did not improve from 17173.89192\n",
      "Epoch 100/100\n",
      "2593458/2593458 [==============================] - 22s 9us/step - loss: 55295.6811 - acc: 0.0042 - val_loss: 29319.1505 - val_acc: 0.0053\n",
      "\n",
      "Epoch 00100: val_loss did not improve from 17173.89192\n"
     ]
    }
   ],
   "source": [
    "history = model.fit(x_train, y_train, validation_split=0.4, epochs=100, batch_size=1000, callbacks=[checkpointer])"
   ]
  },
  {
   "cell_type": "code",
   "execution_count": 19,
   "metadata": {},
   "outputs": [
    {
     "data": {
      "image/png": "[encoded data removed]",
      "text/plain": [
       "<Figure size 432x288 with 1 Axes>"
      ]
     },
     "metadata": {
      "needs_background": "light"
     },
     "output_type": "display_data"
    }
   ],
   "source": [
    "# y_vloss에 테스트셋으로 실험 결과의 오차 값을 저장\n",
    "y_vloss = history.history['val_loss']\n",
    "\n",
    "# y_acc에 학습셋으로 측정한 정확도의 값을 저장\n",
    "y_acc = history.history['acc']\n",
    "\n",
    "# x값을 지정하고 정확도를 파랑색으로, 오차를 빨강색으로 표시\n",
    "x_len = np.arange(len(y_acc))\n",
    "plt.plot(x_len, y_vloss, \"o\", c=\"red\", markersize=3)\n",
    "plt.plot(x_len, y_acc, \"o\", c=\"blue\", markersize=3)\n",
    "\n",
    "plt.show()"
   ]
  },
  {
   "cell_type": "code",
   "execution_count": 20,
   "metadata": {},
   "outputs": [
    {
     "data": {
      "text/plain": [
       "168.59611300710216"
      ]
     },
     "execution_count": 20,
     "metadata": {},
     "output_type": "execute_result"
    }
   ],
   "source": [
    "modelPred = model.predict(x_test)\n",
    "RMSE = sqrt(mean_squared_error(y_test, modelPred))\n",
    "RMSE"
   ]
  },
  {
   "cell_type": "code",
   "execution_count": 21,
   "metadata": {},
   "outputs": [
    {
     "name": "stdout",
     "output_type": "stream",
     "text": [
      "실제가격: 25000.000, 예상가격: 25024.381\n",
      "실제가격: 20900.000, 예상가격: 20915.410\n",
      "실제가격: 35700.000, 예상가격: 35714.250\n",
      "실제가격: 29250.000, 예상가격: 29223.035\n",
      "실제가격: 5800.000, 예상가격: 5766.654\n",
      "실제가격: 9500.000, 예상가격: 9527.574\n",
      "실제가격: 15400.000, 예상가격: 15428.654\n",
      "실제가격: 6300.000, 예상가격: 6289.704\n",
      "실제가격: 20100.000, 예상가격: 20101.650\n",
      "실제가격: 41500.000, 예상가격: 41587.426\n"
     ]
    }
   ],
   "source": [
    "Y_prediction = modelPred.flatten()\n",
    "for i in range(10):\n",
    "    label = y_test.values[i]\n",
    "    prediction = Y_prediction[i]\n",
    "    print(\"실제가격: {:.3f}, 예상가격: {:.3f}\".format(label, prediction))"
   ]
  },
  {
   "cell_type": "code",
   "execution_count": 25,
   "metadata": {},
   "outputs": [],
   "source": [
    "model = load_model('./model/95-17173.8919.hdf5')"
   ]
  },
  {
   "cell_type": "code",
   "execution_count": 26,
   "metadata": {},
   "outputs": [
    {
     "data": {
      "text/plain": [
       "132.54796960104287"
      ]
     },
     "execution_count": 26,
     "metadata": {},
     "output_type": "execute_result"
    }
   ],
   "source": [
    "modelPred = model.predict(x_test)\n",
    "RMSE = sqrt(mean_squared_error(y_test, modelPred))\n",
    "RMSE"
   ]
  },
  {
   "cell_type": "code",
   "execution_count": 27,
   "metadata": {},
   "outputs": [
    {
     "name": "stdout",
     "output_type": "stream",
     "text": [
      "실제가격: 25000.000, 예상가격: 25027.246\n",
      "실제가격: 20900.000, 예상가격: 21001.854\n",
      "실제가격: 35700.000, 예상가격: 35735.145\n",
      "실제가격: 29250.000, 예상가격: 29460.674\n",
      "실제가격: 5800.000, 예상가격: 5803.538\n",
      "실제가격: 9500.000, 예상가격: 9549.287\n",
      "실제가격: 15400.000, 예상가격: 15469.050\n",
      "실제가격: 6300.000, 예상가격: 6315.014\n",
      "실제가격: 20100.000, 예상가격: 20108.818\n",
      "실제가격: 41500.000, 예상가격: 41582.715\n"
     ]
    }
   ],
   "source": [
    "Y_prediction = modelPred.flatten()\n",
    "for i in range(10):\n",
    "    label = y_test.values[i]\n",
    "    prediction = Y_prediction[i]\n",
    "    print(\"실제가격: {:.3f}, 예상가격: {:.3f}\".format(label, prediction))"
   ]
  },
  {
   "cell_type": "code",
   "execution_count": 33,
   "metadata": {},
   "outputs": [
    {
     "name": "stdout",
     "output_type": "stream",
     "text": [
      "실제가격: 25000.000, 예상가격: 25027.000\n",
      "실제가격: 20900.000, 예상가격: 21002.000\n",
      "실제가격: 35700.000, 예상가격: 35735.000\n",
      "실제가격: 29250.000, 예상가격: 29461.000\n",
      "실제가격: 5800.000, 예상가격: 5804.000\n",
      "실제가격: 9500.000, 예상가격: 9549.000\n",
      "실제가격: 15400.000, 예상가격: 15469.000\n",
      "실제가격: 6300.000, 예상가격: 6315.000\n",
      "실제가격: 20100.000, 예상가격: 20109.000\n",
      "실제가격: 41500.000, 예상가격: 41583.000\n"
     ]
    }
   ],
   "source": [
    "Y_prediction = modelPred.flatten()\n",
    "for i in range(10):\n",
    "    label = y_test.values[i]\n",
    "    prediction = Y_prediction[i]\n",
    "    print(\"실제가격: {:.3f}, 예상가격: {:.3f}\".format(label, round(prediction)))"
   ]
  }
 ],
 "metadata": {
  "kernelspec": {
   "display_name": "p36",
   "language": "python",
   "name": "p36"
  },
  "language_info": {
   "codemirror_mode": {
    "name": "ipython",
    "version": 3
   },
   "file_extension": ".py",
   "mimetype": "text/x-python",
   "name": "python",
   "nbconvert_exporter": "python",
   "pygments_lexer": "ipython3",
   "version": "3.6.8"
  }
 },
 "nbformat": 4,
 "nbformat_minor": 2
}
