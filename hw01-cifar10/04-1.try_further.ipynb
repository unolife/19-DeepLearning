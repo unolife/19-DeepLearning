{
 "cells": [
  {
   "cell_type": "code",
   "execution_count": 1,
   "metadata": {},
   "outputs": [
    {
     "name": "stderr",
     "output_type": "stream",
     "text": [
      "Using TensorFlow backend.\n"
     ]
    }
   ],
   "source": [
    "import numpy as np\n",
    "import os\n",
    "import sys\n",
    "from six.moves import cPickle\n",
    "import matplotlib.pyplot as plt\n",
    "\n",
    "from sklearn.model_selection import train_test_split\n",
    "\n",
    "from keras.utils import np_utils\n",
    "from keras.layers import Conv2D, Activation, BatchNormalization, Input, Dropout\n",
    "from keras.layers import AveragePooling2D, Flatten, MaxPooling2D, Dense\n",
    "from keras.models import Model\n",
    "import keras\n",
    "\n",
    "from keras.preprocessing.image import ImageDataGenerator"
   ]
  },
  {
   "cell_type": "code",
   "execution_count": 2,
   "metadata": {},
   "outputs": [],
   "source": [
    "num_classes = 10\n",
    "batch_size = 100\n",
    "epochs = 50\n",
    "steps_per_epoch =  int(40000/batch_size)"
   ]
  },
  {
   "cell_type": "code",
   "execution_count": 3,
   "metadata": {},
   "outputs": [
    {
     "name": "stdout",
     "output_type": "stream",
     "text": [
      "train_x shape: (40000, 32, 32, 3)\n",
      "40000 train samples\n"
     ]
    },
    {
     "data": {
      "image/png": "[encoded data removed]",
      "text/plain": [
       "<Figure size 432x288 with 1 Axes>"
      ]
     },
     "metadata": {
      "needs_background": "light"
     },
     "output_type": "display_data"
    }
   ],
   "source": [
    "def load_data():\n",
    "    # Modify path string. use your path which your dataset is in\n",
    "    path =  r'C:\\Users\\strea\\Links\\baseline_code_final (2)'\n",
    "    fpath = os.path.join(path, 'train_data')\n",
    "    \n",
    "    with open(fpath, 'rb') as f:\n",
    "        d = cPickle.load(f, encoding='bytes')\n",
    "    X_train = d['data']\n",
    "    y_train = d['labels']\n",
    "    X_train = X_train.reshape(X_train.shape[0], 3, 32, 32) # 3072개 숫자가 한줄로 이어진 배열 하나를 32x32짜리 배열 3개로 만듦\n",
    "    X_train = X_train.transpose(0, 2, 3, 1)\n",
    "    y_train = np.reshape(y_train, (len(y_train), 1))\n",
    "    return X_train, y_train\n",
    "\n",
    "train_x, train_y = load_data()\n",
    "print('train_x shape:', train_x.shape)\n",
    "print(train_x.shape[0], 'train samples')\n",
    "plt.imshow(train_x[5])\n",
    "plt.show()"
   ]
  },
  {
   "cell_type": "code",
   "execution_count": 4,
   "metadata": {},
   "outputs": [
    {
     "data": {
      "text/plain": [
       "((30000, 32, 32, 3), (10000, 32, 32, 3), (30000, 10), (10000, 10))"
      ]
     },
     "execution_count": 4,
     "metadata": {},
     "output_type": "execute_result"
    }
   ],
   "source": [
    "# random state는 전체 데이터셋에서 train set의 비율을 의미함 0~1 사이의 값을 입력함\n",
    "x_train, x_test, y_train, y_test = train_test_split(train_x, train_y, random_state=0)\n",
    "x_train = x_train.astype('float32') / 255\n",
    "x_test = x_test.astype('float32') / 255\n",
    "y_train = np_utils.to_categorical(y_train, num_classes)\n",
    "y_test = np_utils.to_categorical(y_test, num_classes)\n",
    "x_train.shape, x_test.shape, y_train.shape, y_test.shape"
   ]
  },
  {
   "cell_type": "code",
   "execution_count": 5,
   "metadata": {},
   "outputs": [],
   "source": [
    "def simple_net(x,kernel_size=32, dropsize=0.2):\n",
    "    for i in range(3):\n",
    "        x = Conv2D(kernel_size,(3,3), padding='same')(x)\n",
    "        x = Activation('relu')(x)\n",
    "        x = BatchNormalization()(x)\n",
    "    x = MaxPooling2D(pool_size=(2,2))(x)\n",
    "    x = Dropout(dropsize)(x)\n",
    "    return x"
   ]
  },
  {
   "cell_type": "code",
   "execution_count": 6,
   "metadata": {},
   "outputs": [
    {
     "name": "stdout",
     "output_type": "stream",
     "text": [
      "WARNING:tensorflow:From C:\\ProgramData\\Anaconda3\\envs\\p36\\lib\\site-packages\\tensorflow\\python\\framework\\op_def_library.py:263: colocate_with (from tensorflow.python.framework.ops) is deprecated and will be removed in a future version.\n",
      "Instructions for updating:\n",
      "Colocations handled automatically by placer.\n",
      "WARNING:tensorflow:From C:\\ProgramData\\Anaconda3\\envs\\p36\\lib\\site-packages\\keras\\backend\\tensorflow_backend.py:3445: calling dropout (from tensorflow.python.ops.nn_ops) with keep_prob is deprecated and will be removed in a future version.\n",
      "Instructions for updating:\n",
      "Please use `rate` instead of `keep_prob`. Rate should be set to `rate = 1 - keep_prob`.\n",
      "_________________________________________________________________\n",
      "Layer (type)                 Output Shape              Param #   \n",
      "=================================================================\n",
      "input_1 (InputLayer)         (None, 32, 32, 3)         0         \n",
      "_________________________________________________________________\n",
      "conv2d_1 (Conv2D)            (None, 32, 32, 32)        896       \n",
      "_________________________________________________________________\n",
      "activation_1 (Activation)    (None, 32, 32, 32)        0         \n",
      "_________________________________________________________________\n",
      "batch_normalization_1 (Batch (None, 32, 32, 32)        128       \n",
      "_________________________________________________________________\n",
      "conv2d_2 (Conv2D)            (None, 32, 32, 32)        9248      \n",
      "_________________________________________________________________\n",
      "activation_2 (Activation)    (None, 32, 32, 32)        0         \n",
      "_________________________________________________________________\n",
      "batch_normalization_2 (Batch (None, 32, 32, 32)        128       \n",
      "_________________________________________________________________\n",
      "conv2d_3 (Conv2D)            (None, 32, 32, 32)        9248      \n",
      "_________________________________________________________________\n",
      "activation_3 (Activation)    (None, 32, 32, 32)        0         \n",
      "_________________________________________________________________\n",
      "batch_normalization_3 (Batch (None, 32, 32, 32)        128       \n",
      "_________________________________________________________________\n",
      "max_pooling2d_1 (MaxPooling2 (None, 16, 16, 32)        0         \n",
      "_________________________________________________________________\n",
      "dropout_1 (Dropout)          (None, 16, 16, 32)        0         \n",
      "_________________________________________________________________\n",
      "conv2d_4 (Conv2D)            (None, 16, 16, 64)        18496     \n",
      "_________________________________________________________________\n",
      "activation_4 (Activation)    (None, 16, 16, 64)        0         \n",
      "_________________________________________________________________\n",
      "batch_normalization_4 (Batch (None, 16, 16, 64)        256       \n",
      "_________________________________________________________________\n",
      "conv2d_5 (Conv2D)            (None, 16, 16, 64)        36928     \n",
      "_________________________________________________________________\n",
      "activation_5 (Activation)    (None, 16, 16, 64)        0         \n",
      "_________________________________________________________________\n",
      "batch_normalization_5 (Batch (None, 16, 16, 64)        256       \n",
      "_________________________________________________________________\n",
      "conv2d_6 (Conv2D)            (None, 16, 16, 64)        36928     \n",
      "_________________________________________________________________\n",
      "activation_6 (Activation)    (None, 16, 16, 64)        0         \n",
      "_________________________________________________________________\n",
      "batch_normalization_6 (Batch (None, 16, 16, 64)        256       \n",
      "_________________________________________________________________\n",
      "max_pooling2d_2 (MaxPooling2 (None, 8, 8, 64)          0         \n",
      "_________________________________________________________________\n",
      "dropout_2 (Dropout)          (None, 8, 8, 64)          0         \n",
      "_________________________________________________________________\n",
      "conv2d_7 (Conv2D)            (None, 8, 8, 128)         73856     \n",
      "_________________________________________________________________\n",
      "activation_7 (Activation)    (None, 8, 8, 128)         0         \n",
      "_________________________________________________________________\n",
      "batch_normalization_7 (Batch (None, 8, 8, 128)         512       \n",
      "_________________________________________________________________\n",
      "conv2d_8 (Conv2D)            (None, 8, 8, 128)         147584    \n",
      "_________________________________________________________________\n",
      "activation_8 (Activation)    (None, 8, 8, 128)         0         \n",
      "_________________________________________________________________\n",
      "batch_normalization_8 (Batch (None, 8, 8, 128)         512       \n",
      "_________________________________________________________________\n",
      "conv2d_9 (Conv2D)            (None, 8, 8, 128)         147584    \n",
      "_________________________________________________________________\n",
      "activation_9 (Activation)    (None, 8, 8, 128)         0         \n",
      "_________________________________________________________________\n",
      "batch_normalization_9 (Batch (None, 8, 8, 128)         512       \n",
      "_________________________________________________________________\n",
      "max_pooling2d_3 (MaxPooling2 (None, 4, 4, 128)         0         \n",
      "_________________________________________________________________\n",
      "dropout_3 (Dropout)          (None, 4, 4, 128)         0         \n",
      "_________________________________________________________________\n",
      "average_pooling2d_1 (Average (None, 2, 2, 128)         0         \n",
      "_________________________________________________________________\n",
      "flatten_1 (Flatten)          (None, 512)               0         \n",
      "_________________________________________________________________\n",
      "dense_1 (Dense)              (None, 10)                5130      \n",
      "=================================================================\n",
      "Total params: 488,586\n",
      "Trainable params: 487,242\n",
      "Non-trainable params: 1,344\n",
      "_________________________________________________________________\n"
     ]
    }
   ],
   "source": [
    "inputs = Input(shape=x_train.shape[1:]) # 텐서로 만들어줌\n",
    "x = simple_net(inputs)\n",
    "x = simple_net(x,kernel_size=64, dropsize=0.3)\n",
    "x = simple_net(x,kernel_size=128, dropsize=0.4)\n",
    "# x = simple_net(x,kernel_size=256, dropsize=0.5)\n",
    "x = AveragePooling2D(pool_size=2)(x)\n",
    "y = Flatten()(x)\n",
    "outputs = Dense(num_classes,\n",
    "                    activation='softmax',\n",
    "                    kernel_initializer='he_normal')(y)\n",
    "model = Model(inputs=inputs, outputs=outputs)\n",
    "model.summary()"
   ]
  },
  {
   "cell_type": "code",
   "execution_count": 7,
   "metadata": {},
   "outputs": [],
   "source": [
    "# opt_rms = keras.optimizers.rmsprop(lr=0.001, decay=1e-6)    \n",
    "model.compile(loss='categorical_crossentropy',\n",
    "              optimizer='adam',\n",
    "              metrics=['accuracy'])"
   ]
  },
  {
   "cell_type": "code",
   "execution_count": 8,
   "metadata": {},
   "outputs": [],
   "source": [
    "datagen = ImageDataGenerator(\n",
    "    rotation_range=15,\n",
    "    width_shift_range=0.1,\n",
    "    height_shift_range=0.1,\n",
    "    horizontal_flip=True,\n",
    "    )\n",
    "\n",
    "datagen.fit(x_train)"
   ]
  },
  {
   "cell_type": "code",
   "execution_count": 9,
   "metadata": {},
   "outputs": [
    {
     "name": "stdout",
     "output_type": "stream",
     "text": [
      "WARNING:tensorflow:From C:\\ProgramData\\Anaconda3\\envs\\p36\\lib\\site-packages\\tensorflow\\python\\ops\\math_ops.py:3066: to_int32 (from tensorflow.python.ops.math_ops) is deprecated and will be removed in a future version.\n",
      "Instructions for updating:\n",
      "Use tf.cast instead.\n",
      "Epoch 1/50\n",
      "400/400 [==============================] - 26s 65ms/step - loss: 1.6284 - acc: 0.4351\n",
      "Epoch 2/50\n",
      "400/400 [==============================] - 22s 54ms/step - loss: 1.1645 - acc: 0.5847\n",
      "Epoch 3/50\n",
      "400/400 [==============================] - 22s 54ms/step - loss: 0.9789 - acc: 0.6532\n",
      "Epoch 4/50\n",
      "400/400 [==============================] - 22s 54ms/step - loss: 0.8579 - acc: 0.7004\n",
      "Epoch 5/50\n",
      "400/400 [==============================] - 21s 54ms/step - loss: 0.7829 - acc: 0.7245\n",
      "Epoch 6/50\n",
      "400/400 [==============================] - 22s 54ms/step - loss: 0.7302 - acc: 0.7440\n",
      "Epoch 7/50\n",
      "400/400 [==============================] - 22s 54ms/step - loss: 0.6751 - acc: 0.7637\n",
      "Epoch 8/50\n",
      "400/400 [==============================] - 22s 54ms/step - loss: 0.6423 - acc: 0.7768\n",
      "Epoch 9/50\n",
      "400/400 [==============================] - 22s 54ms/step - loss: 0.6099 - acc: 0.7866\n",
      "Epoch 10/50\n",
      "400/400 [==============================] - 22s 54ms/step - loss: 0.5790 - acc: 0.7976\n",
      "Epoch 11/50\n",
      "400/400 [==============================] - 22s 54ms/step - loss: 0.5545 - acc: 0.8075\n",
      "Epoch 12/50\n",
      "400/400 [==============================] - 21s 54ms/step - loss: 0.5334 - acc: 0.8149\n",
      "Epoch 13/50\n",
      "400/400 [==============================] - 21s 54ms/step - loss: 0.5131 - acc: 0.8211\n",
      "Epoch 14/50\n",
      "400/400 [==============================] - 21s 54ms/step - loss: 0.4901 - acc: 0.8290\n",
      "Epoch 15/50\n",
      "400/400 [==============================] - 21s 54ms/step - loss: 0.4727 - acc: 0.8360\n",
      "Epoch 16/50\n",
      "400/400 [==============================] - 22s 54ms/step - loss: 0.4545 - acc: 0.8434\n",
      "Epoch 17/50\n",
      "400/400 [==============================] - 22s 54ms/step - loss: 0.4461 - acc: 0.8443\n",
      "Epoch 18/50\n",
      "400/400 [==============================] - 21s 54ms/step - loss: 0.4301 - acc: 0.8493\n",
      "Epoch 19/50\n",
      "400/400 [==============================] - 21s 53ms/step - loss: 0.4214 - acc: 0.8530\n",
      "Epoch 20/50\n",
      "400/400 [==============================] - 21s 54ms/step - loss: 0.4096 - acc: 0.8566\n",
      "Epoch 21/50\n",
      "400/400 [==============================] - 21s 53ms/step - loss: 0.3991 - acc: 0.8616\n",
      "Epoch 22/50\n",
      "400/400 [==============================] - 22s 54ms/step - loss: 0.3828 - acc: 0.8661\n",
      "Epoch 23/50\n",
      "400/400 [==============================] - 22s 54ms/step - loss: 0.3797 - acc: 0.8677\n",
      "Epoch 24/50\n",
      "400/400 [==============================] - 22s 54ms/step - loss: 0.3698 - acc: 0.8722\n",
      "Epoch 25/50\n",
      "400/400 [==============================] - 22s 54ms/step - loss: 0.3647 - acc: 0.8735\n",
      "Epoch 26/50\n",
      "400/400 [==============================] - 22s 54ms/step - loss: 0.3553 - acc: 0.8755\n",
      "Epoch 27/50\n",
      "400/400 [==============================] - 22s 54ms/step - loss: 0.3428 - acc: 0.8804\n",
      "Epoch 28/50\n",
      "400/400 [==============================] - 22s 54ms/step - loss: 0.3343 - acc: 0.8828\n",
      "Epoch 29/50\n",
      "400/400 [==============================] - 22s 54ms/step - loss: 0.3292 - acc: 0.8836\n",
      "Epoch 30/50\n",
      "400/400 [==============================] - 22s 54ms/step - loss: 0.3307 - acc: 0.8855\n",
      "Epoch 31/50\n",
      "400/400 [==============================] - 22s 54ms/step - loss: 0.3111 - acc: 0.8910\n",
      "Epoch 32/50\n",
      "400/400 [==============================] - 22s 54ms/step - loss: 0.3157 - acc: 0.8905\n",
      "Epoch 33/50\n",
      "400/400 [==============================] - 22s 54ms/step - loss: 0.3089 - acc: 0.8921\n",
      "Epoch 34/50\n",
      "400/400 [==============================] - 22s 54ms/step - loss: 0.3039 - acc: 0.8937\n",
      "Epoch 35/50\n",
      "400/400 [==============================] - 22s 54ms/step - loss: 0.3044 - acc: 0.8931\n",
      "Epoch 36/50\n",
      "400/400 [==============================] - 21s 53ms/step - loss: 0.2980 - acc: 0.8956\n",
      "Epoch 37/50\n",
      "400/400 [==============================] - 22s 54ms/step - loss: 0.2857 - acc: 0.8988\n",
      "Epoch 38/50\n",
      "400/400 [==============================] - 22s 54ms/step - loss: 0.2861 - acc: 0.8982\n",
      "Epoch 39/50\n",
      "400/400 [==============================] - 22s 54ms/step - loss: 0.2829 - acc: 0.9013\n",
      "Epoch 40/50\n",
      "400/400 [==============================] - 22s 54ms/step - loss: 0.2745 - acc: 0.9024\n",
      "Epoch 41/50\n",
      "400/400 [==============================] - 22s 54ms/step - loss: 0.2664 - acc: 0.9062\n",
      "Epoch 42/50\n",
      "400/400 [==============================] - 22s 54ms/step - loss: 0.2710 - acc: 0.9051\n",
      "Epoch 43/50\n",
      "400/400 [==============================] - 22s 54ms/step - loss: 0.2607 - acc: 0.9077\n",
      "Epoch 44/50\n",
      "400/400 [==============================] - 21s 53ms/step - loss: 0.2600 - acc: 0.9077\n",
      "Epoch 45/50\n",
      "400/400 [==============================] - 22s 54ms/step - loss: 0.2592 - acc: 0.9084\n",
      "Epoch 46/50\n",
      "400/400 [==============================] - 22s 54ms/step - loss: 0.2584 - acc: 0.9069\n",
      "Epoch 47/50\n",
      "400/400 [==============================] - 22s 54ms/step - loss: 0.2457 - acc: 0.9125\n",
      "Epoch 48/50\n",
      "400/400 [==============================] - 22s 54ms/step - loss: 0.2471 - acc: 0.9113\n",
      "Epoch 49/50\n",
      "400/400 [==============================] - 22s 54ms/step - loss: 0.2452 - acc: 0.9125\n",
      "Epoch 50/50\n",
      "400/400 [==============================] - 22s 54ms/step - loss: 0.2424 - acc: 0.9160\n"
     ]
    },
    {
     "data": {
      "text/plain": [
       "<keras.callbacks.History at 0x1c067f1c4e0>"
      ]
     },
     "execution_count": 9,
     "metadata": {},
     "output_type": "execute_result"
    }
   ],
   "source": [
    "model.fit_generator(datagen.flow(x_train, y_train, batch_size=batch_size),\n",
    "                    epochs=epochs,\n",
    "                    steps_per_epoch=steps_per_epoch,\n",
    "                    workers=4)"
   ]
  },
  {
   "cell_type": "markdown",
   "metadata": {},
   "source": [
    "## 테스트결과"
   ]
  },
  {
   "cell_type": "markdown",
   "metadata": {},
   "source": [
    "batch 10 / epoch 100 / conv(32, 3,3) + elu + batch 9번 + maxpool(2,2) + dropout(0.2)"
   ]
  },
  {
   "cell_type": "code",
   "execution_count": 10,
   "metadata": {},
   "outputs": [
    {
     "name": "stdout",
     "output_type": "stream",
     "text": [
      "10000/10000 [==============================] - 4s 437us/step\n",
      "\n",
      "Test result: 82.580 loss: 0.600\n"
     ]
    }
   ],
   "source": [
    "# scores = model.evaluate(x_test, y_test, batch_size=128, verbose=1)\n",
    "# print('\\nTest result: %.3f loss: %.3f' % (scores[1]*100,scores[0]))"
   ]
  },
  {
   "cell_type": "markdown",
   "metadata": {},
   "source": [
    "batch_size = 100, epochs = 50 \n",
    "\n",
    "conv(32,3,3) + elu + batch 3번 + maxpool(2,2) + dropout(0.2)<br>\n",
    "conv(32,3,3) + elu + batch 3번 + maxpool(2,2) + dropout(0.3)<br>\n",
    "conv(32,3,3) + elu + batch 3번 + maxpool(3,3) + dropout(0.4)"
   ]
  },
  {
   "cell_type": "code",
   "execution_count": 10,
   "metadata": {},
   "outputs": [
    {
     "name": "stdout",
     "output_type": "stream",
     "text": [
      "10000/10000 [==============================] - 2s 159us/step\n",
      "\n",
      "Test result: 80.540 loss: 0.591\n"
     ]
    }
   ],
   "source": [
    "# scores = model.evaluate(x_test, y_test, batch_size=128, verbose=1)\n",
    "# print('\\nTest result: %.3f loss: %.3f' % (scores[1]*100,scores[0]))"
   ]
  },
  {
   "cell_type": "markdown",
   "metadata": {},
   "source": [
    "batch_size = 100, epochs = 50 \n",
    "\n",
    "conv(<b>32</b>,3,3) + elu + batch 3번 + maxpool(2,2) + dropout(0.2)<br>\n",
    "conv(<b>64</b>,3,3) + elu + batch 3번 + maxpool(2,2) + dropout(0.3)<br>\n",
    "conv(<b>128</b>,3,3) + elu + batch 3번 + maxpool(3,3) + dropout(0.4)"
   ]
  },
  {
   "cell_type": "code",
   "execution_count": 10,
   "metadata": {},
   "outputs": [
    {
     "name": "stdout",
     "output_type": "stream",
     "text": [
      "10000/10000 [==============================] - 2s 210us/step\n",
      "\n",
      "Test result: 85.970 loss: 0.479\n"
     ]
    }
   ],
   "source": [
    "scores = model.evaluate(x_test, y_test, batch_size=128, verbose=1)\n",
    "print('\\nTest result: %.3f loss: %.3f' % (scores[1]*100,scores[0]))"
   ]
  },
  {
   "cell_type": "markdown",
   "metadata": {},
   "source": [
    "batch_size = 10, epochs = 50 - 130초씩 걸림\n",
    "\n",
    "conv(<b>32</b>,3,3) + elu + batch 3번 + maxpool(2,2) + dropout(0.2)<br>\n",
    "conv(<b>64</b>,3,3) + elu + batch 3번 + maxpool(2,2) + dropout(0.3)<br>\n",
    "conv(<b>128</b>,3,3) + elu + batch 3번 + maxpool(2,2) + dropout(0.4)<br>\n",
    "conv(<b>256</b>,3,3) + elu + batch 3번 + maxpool(2,2) + dropout(0.5)"
   ]
  },
  {
   "cell_type": "code",
   "execution_count": 11,
   "metadata": {},
   "outputs": [
    {
     "name": "stdout",
     "output_type": "stream",
     "text": [
      "10000/10000 [==============================] - 3s 253us/step\n",
      "\n",
      "Test result: 87.050 loss: 0.421\n"
     ]
    }
   ],
   "source": [
    "scores = model.evaluate(x_test, y_test, batch_size=128, verbose=1)\n",
    "print('\\nTest result: %.3f loss: %.3f' % (scores[1]*100,scores[0]))"
   ]
  },
  {
   "cell_type": "markdown",
   "metadata": {},
   "source": [
    "## 옵티마이저 변경"
   ]
  },
  {
   "cell_type": "markdown",
   "metadata": {},
   "source": [
    "batch_size = 100, epochs = 50  keras.optimizers.rmsprop(lr=0.001, decay=1e-6)  -> <b> 옵티마이저 adam </b> 22초 걸림\n",
    "\n",
    "conv(32,3,3) + elu + batch 3번 + maxpool(2,2) + dropout(0.2)<br>\n",
    "conv(64,3,3) + elu + batch 3번 + maxpool(2,2) + dropout(0.3)<br>\n",
    "conv(128,3,3) + elu + batch 3번 + maxpool(3,3) + dropout(0.4)"
   ]
  },
  {
   "cell_type": "code",
   "execution_count": 10,
   "metadata": {},
   "outputs": [
    {
     "name": "stdout",
     "output_type": "stream",
     "text": [
      "10000/10000 [==============================] - 2s 202us/step\n",
      "\n",
      "Test result: 86.080 loss: 0.496\n"
     ]
    }
   ],
   "source": [
    "scores = model.evaluate(x_test, y_test, batch_size=128, verbose=1)\n",
    "print('\\nTest result: %.3f loss: %.3f' % (scores[1]*100,scores[0]))"
   ]
  }
 ],
 "metadata": {
  "kernelspec": {
   "display_name": "p36",
   "language": "python",
   "name": "p36"
  },
  "language_info": {
   "codemirror_mode": {
    "name": "ipython",
    "version": 3
   },
   "file_extension": ".py",
   "mimetype": "text/x-python",
   "name": "python",
   "nbconvert_exporter": "python",
   "pygments_lexer": "ipython3",
   "version": "3.6.8"
  }
 },
 "nbformat": 4,
 "nbformat_minor": 2
}
