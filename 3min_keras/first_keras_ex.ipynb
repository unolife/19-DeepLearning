{
 "cells": [
  {
   "cell_type": "code",
   "execution_count": 1,
   "metadata": {},
   "outputs": [
    {
     "name": "stderr",
     "output_type": "stream",
     "text": [
      "Using TensorFlow backend.\n"
     ]
    }
   ],
   "source": [
    "import keras\n",
    "import numpy as np"
   ]
  },
  {
   "cell_type": "code",
   "execution_count": 3,
   "metadata": {},
   "outputs": [],
   "source": [
    "x = np.array([0,1,2,3,4])\n",
    "y = x * 2 + 1"
   ]
  },
  {
   "cell_type": "markdown",
   "metadata": {},
   "source": [
    "# model 생성\n",
    "keras 서브패키지 models는 인공 신경망의 각 계층을 연결하여 하나의 모델을 만든 후 컴파일, 학습, 예측을 담당한다. 그리고 서브패키지 layers는 인공신경망의 각 계층을 만드는 클래스들을 제공한다. 여기서는 가장 기본이 되는 Dense 클래스를 사용한다.(방법 및 설명은 2장에서) <br>\n",
    "models.Sequential() - 케라스로 인공신경망 모델을 만들기 시작했음을 파이썬 프로세스에게 알리는 역할"
   ]
  },
  {
   "cell_type": "code",
   "execution_count": 4,
   "metadata": {},
   "outputs": [],
   "source": [
    "model = keras.models.Sequential()"
   ]
  },
  {
   "cell_type": "code",
   "execution_count": 5,
   "metadata": {},
   "outputs": [
    {
     "name": "stdout",
     "output_type": "stream",
     "text": [
      "WARNING:tensorflow:From C:\\Users\\sbs\\Anaconda3\\envs\\sbs36\\lib\\site-packages\\tensorflow\\python\\framework\\op_def_library.py:263: colocate_with (from tensorflow.python.framework.ops) is deprecated and will be removed in a future version.\n",
      "Instructions for updating:\n",
      "Colocations handled automatically by placer.\n"
     ]
    }
   ],
   "source": [
    "# 모델 인스턴스가 생성되면 멤버 함수 add()를 이용해 인공지능 계층을 추가 -> deprecate 될거임\n",
    "model.add(keras.layers.Dense(1,input_shape=(1,))) "
   ]
  },
  {
   "cell_type": "markdown",
   "metadata": {},
   "source": [
    "추가한 인공지능 계층은 입력 노드 하나와 가중치 하나를 가지느 처리 계층이다. 내부적으로 계층은 편향값을 가지고 있으므로 미지수 둘을 포함하는 셈이다. <br>\n",
    "만든 모델을 어떻게 학습할지 파라미터로 지정하고 컴파일한다."
   ]
  },
  {
   "cell_type": "code",
   "execution_count": 6,
   "metadata": {},
   "outputs": [],
   "source": [
    "model.compile('SGD','mse')"
   ]
  },
  {
   "cell_type": "markdown",
   "metadata": {},
   "source": [
    "여기서 컴파일은 모델 파라미터를 통해 모델 구조를 생성하는 단계를 의미한다. 학습에 사용되는 최적화 알고리즘은 확률적 경사 하강법(SGD, Stochastic Gradient Descent)이며, 손실함수(Loss Function)는 평균제곱오차(MSG, Mean Square Error)이다.(모델링 및 컴파일도 2단원)"
   ]
  },
  {
   "cell_type": "markdown",
   "metadata": {},
   "source": [
    "# 학습\n",
    "모델을 주어진 데이터로 학습시킬 차례, 주어진 모델(model)에 데이터(x)를 학습시킴 / 찾아야 할 미지수는 가중치 하나와 편향값 하나이다. 입력 신호 둘과 출력 신호 둘을 제공하면 미지수를 찾을 수 있다. <br>\n",
    "따라서,이제 x[:2], y[:2]를 이용(각 값을 두 개씩 이용해서 학습)"
   ]
  },
  {
   "cell_type": "code",
   "execution_count": 7,
   "metadata": {},
   "outputs": [
    {
     "name": "stdout",
     "output_type": "stream",
     "text": [
      "WARNING:tensorflow:From C:\\Users\\sbs\\Anaconda3\\envs\\sbs36\\lib\\site-packages\\tensorflow\\python\\ops\\math_ops.py:3066: to_int32 (from tensorflow.python.ops.math_ops) is deprecated and will be removed in a future version.\n",
      "Instructions for updating:\n",
      "Use tf.cast instead.\n"
     ]
    },
    {
     "data": {
      "text/plain": [
       "<keras.callbacks.History at 0x2696c3069e8>"
      ]
     },
     "execution_count": 7,
     "metadata": {},
     "output_type": "execute_result"
    }
   ],
   "source": [
    "model.fit(x[:2],y[:2], epochs=1000, verbose=0) # fit 대신에 tf.cast를 사용하라는거 같음 / 메모리 주소가 찍히는거 같음"
   ]
  },
  {
   "cell_type": "markdown",
   "metadata": {},
   "source": [
    "epochs는 학습을 진행하는 총 에포크를 의미한다. 또한 verbose는 학습 진행 사항의 표시 여부를 결정한다. <br>\n",
    "* epoch, 인공신경망을 학습할 때, 학습 데이터 전체가 사용된 한 회 또는 한 세대, epochs는 에포크의 반복 횟수로 총 에포크라고 쓴다"
   ]
  },
  {
   "cell_type": "markdown",
   "metadata": {},
   "source": [
    "# 실행"
   ]
  },
  {
   "cell_type": "code",
   "execution_count": 11,
   "metadata": {},
   "outputs": [
    {
     "name": "stdout",
     "output_type": "stream",
     "text": [
      "Target: [5 7 9]\n",
      "Predictions: [4.9523444 6.91786   8.883376 ]\n"
     ]
    }
   ],
   "source": [
    "print('Target:',y[2:])\n",
    "print('Predictions:', model.predict(x[2:]).flatten())"
   ]
  }
 ],
 "metadata": {
  "kernelspec": {
   "display_name": "Python 3",
   "language": "python",
   "name": "python3"
  },
  "language_info": {
   "codemirror_mode": {
    "name": "ipython",
    "version": 3
   },
   "file_extension": ".py",
   "mimetype": "text/x-python",
   "name": "python",
   "nbconvert_exporter": "python",
   "pygments_lexer": "ipython3",
   "version": "3.6.8"
  }
 },
 "nbformat": 4,
 "nbformat_minor": 2
}
